{
  "nbformat": 4,
  "nbformat_minor": 0,
  "metadata": {
    "colab": {
      "name": "Assignment 1 - Q1",
      "provenance": [],
      "collapsed_sections": [],
      "authorship_tag": "ABX9TyP2UKduCnBQsKS979Vf9ozD",
      "include_colab_link": true
    },
    "kernelspec": {
      "name": "python3",
      "display_name": "Python 3"
    },
    "language_info": {
      "name": "python"
    }
  },
  "cells": [
    {
      "cell_type": "markdown",
      "metadata": {
        "id": "view-in-github",
        "colab_type": "text"
      },
      "source": [
        "<a href=\"https://colab.research.google.com/github/sanchitkalra/bits-f312-nnfl/blob/main/Assignment_1_Q1.ipynb\" target=\"_parent\"><img src=\"https://colab.research.google.com/assets/colab-badge.svg\" alt=\"Open In Colab\"/></a>"
      ]
    },
    {
      "cell_type": "code",
      "execution_count": 88,
      "metadata": {
        "colab": {
          "base_uri": "https://localhost:8080/"
        },
        "id": "9CFwyxeObSS4",
        "outputId": "9fa94ac3-dd2c-4473-9dd3-deb0da3f5d84"
      },
      "outputs": [
        {
          "output_type": "stream",
          "name": "stdout",
          "text": [
            "Drive already mounted at /content/drive; to attempt to forcibly remount, call drive.mount(\"/content/drive\", force_remount=True).\n"
          ]
        }
      ],
      "source": [
        "from google.colab import drive\n",
        "drive.mount('/content/drive')"
      ]
    },
    {
      "cell_type": "code",
      "source": [
        "import pandas as pd\n",
        "import math\n",
        "import numpy as np\n",
        "import matplotlib.pyplot as plt\n",
        "from sklearn.metrics import matthews_corrcoef\n"
      ],
      "metadata": {
        "id": "aPKRjRdab_Nc"
      },
      "execution_count": 89,
      "outputs": []
    },
    {
      "cell_type": "code",
      "source": [
        "pip install openpyxl==3.0.9"
      ],
      "metadata": {
        "id": "XCprQVr3do5X",
        "outputId": "38f27f52-1905-4d7a-cf8e-8a13c0b5030a",
        "colab": {
          "base_uri": "https://localhost:8080/"
        }
      },
      "execution_count": 90,
      "outputs": [
        {
          "output_type": "stream",
          "name": "stdout",
          "text": [
            "Requirement already satisfied: openpyxl==3.0.9 in /usr/local/lib/python3.7/dist-packages (3.0.9)\n",
            "Requirement already satisfied: et-xmlfile in /usr/local/lib/python3.7/dist-packages (from openpyxl==3.0.9) (1.1.0)\n"
          ]
        }
      ]
    },
    {
      "cell_type": "code",
      "source": [
        "def cost_function(X,y,w,lamb, l2 = True): ###define cost function\n",
        "  hypothesis = np.dot(X,w.T) ###calculation of hypothesis for all instances\n",
        "  \n",
        "  if l2:\n",
        "    J = (1/(2*len(y))) * np.sum((hypothesis - y) ** 2)+(lamb/2)*np.sum(w**2) ####as mention\n",
        "  else:\n",
        "    J = (1/(2*len(y))) * np.sum((hypothesis - y) ** 2) +(lamb/2)*np.sum(np.abs(w)) ####as mention in the class notes\n",
        "  return J"
      ],
      "metadata": {
        "id": "T-N-9pT8cDht"
      },
      "execution_count": 91,
      "outputs": []
    },
    {
      "cell_type": "code",
      "source": [
        "def batch_gradient_descent(X, y, w, alpha, iters, lamb, l2 = True):\n",
        "  cost_history = np.zeros(iters)\n",
        "  for i in range(iters):\n",
        "    hypothesis = np.dot(X, w.T)\n",
        "    if l2:\n",
        "      w = w*(1 - alpha*lamb) - (alpha/len(y))*np.dot(hypothesis - y, X)\n",
        "    else:\n",
        "      w = w - ((alpha*lamb)/2)*np.sign(w) - (alpha/len(y))*np.dot(hypothesis - y, X)\n",
        "    cost_history[i] = cost_function(X, y, w, lamb)\n",
        "  return w, cost_history"
      ],
      "metadata": {
        "id": "QMdHj-YZcNXb"
      },
      "execution_count": 92,
      "outputs": []
    },
    {
      "cell_type": "code",
      "source": [
        "def MB_gradient_descent(X,y,w,alpha, iters, batch_size, lamb, l2 = True):\n",
        "  cost_history = np.zeros(iters)\n",
        "  for i in range(iters):\n",
        "    rand_index = np.random.randint(len(y)-batch_size)\n",
        "    ind_x = X[rand_index:rand_index+batch_size]\n",
        "    ind_y = y[rand_index:rand_index+batch_size]\n",
        "    if l2:\n",
        "      w = w*(1 - alpha*lamb) - (alpha/batch_size) * (ind_x.T.dot(ind_x.dot(w) - ind_y))\n",
        "    else:\n",
        "      w = w - ((alpha*lamb)/2)*np.sign(w) - (alpha/batch_size) * (ind_x.T.dot(ind_x.dot(w) - ind_y))\n",
        "    cost_history[i] = cost_function(ind_x,ind_y,w, lamb)\n",
        "  return w, cost_history"
      ],
      "metadata": {
        "id": "YpNN7yhTQW47"
      },
      "execution_count": 93,
      "outputs": []
    },
    {
      "cell_type": "code",
      "source": [
        "def stochastic_gradient_descent(X,y,w,alpha, iters, lamb, l2 = True):\n",
        "  cost_history = np.zeros(iters)\n",
        "  for i in range(iters):\n",
        "    rand_index = np.random.randint(len(y)-1)\n",
        "    ind_x = X[rand_index:rand_index+1]\n",
        "    ind_y = y[rand_index:rand_index+1]\n",
        "    if l2:\n",
        "      w = w*(1 - alpha*lamb) - alpha * (ind_x.T.dot(ind_x.dot(w) - ind_y))\n",
        "    else:\n",
        "      w = w - ((alpha*lamb)/2)*np.sign(w) - alpha * (ind_x.T.dot(ind_x.dot(w) - ind_y))\n",
        "    cost_history[i] = cost_function(ind_x,ind_y,w, lamb)\n",
        "  return w, cost_history"
      ],
      "metadata": {
        "id": "HbbXwOQ3QfgJ"
      },
      "execution_count": 94,
      "outputs": []
    },
    {
      "cell_type": "code",
      "source": [
        "data_x_tr = pd.read_csv('/content/drive/MyDrive/NNFL/Q1_Q2_data/xtr.csv',header=None)\n",
        "data_y_tr = pd.read_csv('/content/drive/MyDrive/NNFL/Q1_Q2_data/ytr.csv',header=None)\n",
        "data_x_te = pd.read_csv('/content/drive/MyDrive/NNFL/Q1_Q2_data/xte.csv',header=None)\n",
        "data_y_te = pd.read_csv('/content/drive/MyDrive/NNFL/Q1_Q2_data/yte.csv',header=None)\n",
        "print(data_y_te)"
      ],
      "metadata": {
        "colab": {
          "base_uri": "https://localhost:8080/"
        },
        "id": "UxGRAtLJdKTH",
        "outputId": "6440ba7e-a869-414c-c61f-007f8df2b96d"
      },
      "execution_count": 95,
      "outputs": [
        {
          "output_type": "stream",
          "name": "stdout",
          "text": [
            "      0\n",
            "0  1.36\n",
            "1  1.36\n",
            "2  1.36\n",
            "3  1.36\n",
            "4  1.36\n",
            "5  1.43\n",
            "6  1.43\n",
            "7  1.43\n",
            "8  1.43\n",
            "9  1.43\n"
          ]
        }
      ]
    },
    {
      "cell_type": "code",
      "source": [
        "#datan = data.values\n",
        "X = data_x_tr.values[:, [0, 1]]\n",
        "m = X.shape[0]\n",
        "xmin = np.min(X, axis = 0)\n",
        "xmax = np.max(X, axis = 0)\n",
        "X = (X-xmin)/(xmax - xmin)\n",
        "print(X)"
      ],
      "metadata": {
        "colab": {
          "base_uri": "https://localhost:8080/"
        },
        "id": "sMkncLFDevdQ",
        "outputId": "b08afbcf-fa37-43d2-9f16-51c525f61698"
      },
      "execution_count": 96,
      "outputs": [
        {
          "output_type": "stream",
          "name": "stdout",
          "text": [
            "[[0.51322751 0.0729927 ]\n",
            " [0.51322751 0.74452555]\n",
            " [0.51322751 0.62043796]\n",
            " [0.51322751 0.        ]\n",
            " [0.51322751 0.6350365 ]\n",
            " [0.51322751 0.02919708]\n",
            " [0.51322751 0.57664234]\n",
            " [0.51322751 0.64233577]\n",
            " [0.51322751 0.11678832]\n",
            " [0.51322751 0.64963504]\n",
            " [0.51322751 0.62043796]\n",
            " [0.74603175 0.80291971]\n",
            " [0.97883598 0.43065693]\n",
            " [0.25396825 0.24817518]\n",
            " [0.02116402 0.62773723]\n",
            " [0.51322751 0.81021898]\n",
            " [0.74603175 1.        ]\n",
            " [0.97354497 0.44525547]\n",
            " [0.02116402 0.25547445]\n",
            " [0.50793651 0.64233577]\n",
            " [0.73544974 0.82481752]\n",
            " [0.97354497 1.        ]\n",
            " [0.26984127 0.45985401]\n",
            " [0.02116402 0.28467153]\n",
            " [0.51322751 0.6350365 ]\n",
            " [0.73015873 0.81021898]\n",
            " [0.96296296 1.        ]\n",
            " [0.25925926 0.45255474]\n",
            " [0.02116402 0.27007299]\n",
            " [0.51322751 0.61313869]\n",
            " [0.75661376 0.80291971]\n",
            " [0.98941799 0.98175182]\n",
            " [0.25925926 0.43065693]\n",
            " [0.         0.25182482]\n",
            " [0.51322751 0.61313869]\n",
            " [0.75132275 0.79927007]\n",
            " [0.97883598 0.97810219]\n",
            " [0.26984127 0.4379562 ]\n",
            " [0.01587302 0.25547445]\n",
            " [0.51322751 0.86131387]\n",
            " [0.51322751 0.74452555]\n",
            " [0.51322751 0.60583942]\n",
            " [0.51322751 0.61313869]\n",
            " [0.51322751 0.60583942]\n",
            " [0.51322751 0.61313869]\n",
            " [0.51322751 0.59124088]\n",
            " [0.76719577 0.77372263]\n",
            " [1.         0.95620438]\n",
            " [0.28042328 0.40875912]\n",
            " [0.02645503 0.22627737]\n",
            " [0.51322751 0.59124088]\n",
            " [0.75132275 0.77372263]\n",
            " [0.98412698 0.95620438]\n",
            " [0.26455026 0.40875912]\n",
            " [0.01587302 0.22627737]]\n"
          ]
        }
      ]
    },
    {
      "cell_type": "code",
      "source": [
        "pp = np.ones([m, 1]) # vector containg ones as all elements\n",
        "X = np.append(pp,X, axis=1) #Column of ones"
      ],
      "metadata": {
        "id": "zSbSxaPofNJp"
      },
      "execution_count": 97,
      "outputs": []
    },
    {
      "cell_type": "code",
      "source": [
        "X.shape"
      ],
      "metadata": {
        "colab": {
          "base_uri": "https://localhost:8080/"
        },
        "id": "DlJAmZz6fZ1g",
        "outputId": "916451ff-f582-4584-bc2b-70705e1c3044"
      },
      "execution_count": 98,
      "outputs": [
        {
          "output_type": "execute_result",
          "data": {
            "text/plain": [
              "(55, 3)"
            ]
          },
          "metadata": {},
          "execution_count": 98
        }
      ]
    },
    {
      "cell_type": "code",
      "source": [
        "print(X)"
      ],
      "metadata": {
        "colab": {
          "base_uri": "https://localhost:8080/"
        },
        "id": "9UIs43HJfc56",
        "outputId": "2fe8d3b4-b8e4-4ed0-ffe1-ec117ad7439f"
      },
      "execution_count": 99,
      "outputs": [
        {
          "output_type": "stream",
          "name": "stdout",
          "text": [
            "[[1.         0.51322751 0.0729927 ]\n",
            " [1.         0.51322751 0.74452555]\n",
            " [1.         0.51322751 0.62043796]\n",
            " [1.         0.51322751 0.        ]\n",
            " [1.         0.51322751 0.6350365 ]\n",
            " [1.         0.51322751 0.02919708]\n",
            " [1.         0.51322751 0.57664234]\n",
            " [1.         0.51322751 0.64233577]\n",
            " [1.         0.51322751 0.11678832]\n",
            " [1.         0.51322751 0.64963504]\n",
            " [1.         0.51322751 0.62043796]\n",
            " [1.         0.74603175 0.80291971]\n",
            " [1.         0.97883598 0.43065693]\n",
            " [1.         0.25396825 0.24817518]\n",
            " [1.         0.02116402 0.62773723]\n",
            " [1.         0.51322751 0.81021898]\n",
            " [1.         0.74603175 1.        ]\n",
            " [1.         0.97354497 0.44525547]\n",
            " [1.         0.02116402 0.25547445]\n",
            " [1.         0.50793651 0.64233577]\n",
            " [1.         0.73544974 0.82481752]\n",
            " [1.         0.97354497 1.        ]\n",
            " [1.         0.26984127 0.45985401]\n",
            " [1.         0.02116402 0.28467153]\n",
            " [1.         0.51322751 0.6350365 ]\n",
            " [1.         0.73015873 0.81021898]\n",
            " [1.         0.96296296 1.        ]\n",
            " [1.         0.25925926 0.45255474]\n",
            " [1.         0.02116402 0.27007299]\n",
            " [1.         0.51322751 0.61313869]\n",
            " [1.         0.75661376 0.80291971]\n",
            " [1.         0.98941799 0.98175182]\n",
            " [1.         0.25925926 0.43065693]\n",
            " [1.         0.         0.25182482]\n",
            " [1.         0.51322751 0.61313869]\n",
            " [1.         0.75132275 0.79927007]\n",
            " [1.         0.97883598 0.97810219]\n",
            " [1.         0.26984127 0.4379562 ]\n",
            " [1.         0.01587302 0.25547445]\n",
            " [1.         0.51322751 0.86131387]\n",
            " [1.         0.51322751 0.74452555]\n",
            " [1.         0.51322751 0.60583942]\n",
            " [1.         0.51322751 0.61313869]\n",
            " [1.         0.51322751 0.60583942]\n",
            " [1.         0.51322751 0.61313869]\n",
            " [1.         0.51322751 0.59124088]\n",
            " [1.         0.76719577 0.77372263]\n",
            " [1.         1.         0.95620438]\n",
            " [1.         0.28042328 0.40875912]\n",
            " [1.         0.02645503 0.22627737]\n",
            " [1.         0.51322751 0.59124088]\n",
            " [1.         0.75132275 0.77372263]\n",
            " [1.         0.98412698 0.95620438]\n",
            " [1.         0.26455026 0.40875912]\n",
            " [1.         0.01587302 0.22627737]]\n"
          ]
        }
      ]
    },
    {
      "cell_type": "code",
      "source": [
        "y=data_y_tr.values[:,0] #output\n",
        "print(y.shape)\n",
        "ymin = np.min(y, axis = 0)\n",
        "ymax = np.max(y, axis = 0)\n",
        "y = (y- ymin)/(ymax-ymin) #Normalization\n",
        "print(y)"
      ],
      "metadata": {
        "id": "5D4ovHITfd7F",
        "colab": {
          "base_uri": "https://localhost:8080/"
        },
        "outputId": "1029dcf4-bd98-4662-9cf6-e4d8e9132e32"
      },
      "execution_count": 100,
      "outputs": [
        {
          "output_type": "stream",
          "name": "stdout",
          "text": [
            "(55,)\n",
            "[0.21428571 0.21428571 0.21428571 0.21428571 0.21428571 0.21428571\n",
            " 0.         0.21428571 0.21428571 0.21428571 0.21428571 0.21428571\n",
            " 0.21428571 0.21428571 0.42857143 0.42857143 0.42857143 0.42857143\n",
            " 0.42857143 0.14285714 0.14285714 0.14285714 0.14285714 0.14285714\n",
            " 0.21428571 0.21428571 0.21428571 0.21428571 0.21428571 0.14285714\n",
            " 0.14285714 0.14285714 0.14285714 0.14285714 0.42857143 0.42857143\n",
            " 0.42857143 0.42857143 0.42857143 0.28571429 0.78571429 1.\n",
            " 0.64285714 0.64285714 0.89285714 1.         1.         1.\n",
            " 1.         1.         0.64285714 0.64285714 0.64285714 0.64285714\n",
            " 0.64285714]\n"
          ]
        }
      ]
    },
    {
      "cell_type": "code",
      "source": [
        "y_te=data_y_te.values[:,0] #output\n",
        "y_te = np.array([y_te]).T\n",
        "print(y_te.shape)\n",
        "y_te_min = np.min(y_te, axis = 0)\n",
        "y_te_max = np.max(y_te, axis = 0)\n",
        "y_te = (y_te- y_te_min)/(y_te_max-y_te_min) #Normalization\n",
        "#y_te = y_te/y_te_max\n",
        "print(y_te)"
      ],
      "metadata": {
        "colab": {
          "base_uri": "https://localhost:8080/"
        },
        "id": "Om7SrS5t6pIS",
        "outputId": "601bc706-f929-4650-d293-74001fe5e4f4"
      },
      "execution_count": 101,
      "outputs": [
        {
          "output_type": "stream",
          "name": "stdout",
          "text": [
            "(10, 1)\n",
            "[[0.]\n",
            " [0.]\n",
            " [0.]\n",
            " [0.]\n",
            " [0.]\n",
            " [1.]\n",
            " [1.]\n",
            " [1.]\n",
            " [1.]\n",
            " [1.]]\n"
          ]
        }
      ]
    },
    {
      "cell_type": "code",
      "source": [
        "w= np.zeros(X.shape[1])"
      ],
      "metadata": {
        "id": "CprN6qx7fi9K"
      },
      "execution_count": 102,
      "outputs": []
    },
    {
      "cell_type": "code",
      "source": [
        "print(w)"
      ],
      "metadata": {
        "colab": {
          "base_uri": "https://localhost:8080/"
        },
        "id": "1p9eVic-fk_L",
        "outputId": "546cfa2d-1623-4320-836b-318177e2f0a4"
      },
      "execution_count": 103,
      "outputs": [
        {
          "output_type": "stream",
          "name": "stdout",
          "text": [
            "[0. 0. 0.]\n"
          ]
        }
      ]
    },
    {
      "cell_type": "code",
      "source": [
        "alpha=0.05 ##learning rate\n",
        "iters=100 ###iterations\n",
        "lamb=0.1\n",
        "batch_w,J_his = batch_gradient_descent(X,y,w,alpha,iters,lamb)\n",
        "\n",
        "plt.plot(range(iters),J_his)\n",
        "plt.show()"
      ],
      "metadata": {
        "id": "mpD1a65UfpMV",
        "outputId": "0bf6b1d0-a1fc-4764-eb9d-00263a14bdf7",
        "colab": {
          "base_uri": "https://localhost:8080/",
          "height": 265
        }
      },
      "execution_count": 104,
      "outputs": [
        {
          "output_type": "display_data",
          "data": {
            "image/png": "[encoded data removed]",
            "text/plain": [
              "<Figure size 432x288 with 1 Axes>"
            ]
          },
          "metadata": {
            "needs_background": "light"
          }
        }
      ]
    },
    {
      "cell_type": "code",
      "source": [
        "print(batch_w)"
      ],
      "metadata": {
        "id": "Cm7CF60Hf4Dw",
        "outputId": "6f0fc6b6-ed24-4f96-d23c-726788e8ddec",
        "colab": {
          "base_uri": "https://localhost:8080/"
        }
      },
      "execution_count": 105,
      "outputs": [
        {
          "output_type": "stream",
          "name": "stdout",
          "text": [
            "[0.25907272 0.07766922 0.12357418]\n"
          ]
        }
      ]
    },
    {
      "cell_type": "code",
      "source": [
        "batch_size = 50\n",
        "w= np.zeros(X.shape[1])\n",
        "mb_w, J_his_mb = MB_gradient_descent(X, y, w, alpha, iters, batch_size, lamb)\n",
        "\n",
        "plt.plot(range(iters),J_his_mb)\n",
        "plt.show()\n",
        "\n",
        "print(mb_w)"
      ],
      "metadata": {
        "colab": {
          "base_uri": "https://localhost:8080/",
          "height": 286
        },
        "id": "Frlq2rD7QtIO",
        "outputId": "668ed3ea-d887-41c0-ed5a-06b6f7055068"
      },
      "execution_count": 106,
      "outputs": [
        {
          "output_type": "display_data",
          "data": {
            "image/png": "[encoded data removed]",
            "text/plain": [
              "<Figure size 432x288 with 1 Axes>"
            ]
          },
          "metadata": {
            "needs_background": "light"
          }
        },
        {
          "output_type": "stream",
          "name": "stdout",
          "text": [
            "[0.24975023 0.08077447 0.12309894]\n"
          ]
        }
      ]
    },
    {
      "cell_type": "code",
      "source": [
        "w= np.zeros(X.shape[1])\n",
        "iters = 3000\n",
        "alpha = 0.01\n",
        "sg_w, J_his_sg = stochastic_gradient_descent(X,y,w,alpha, iters, lamb)\n",
        "\n",
        "plt.plot(range(iters),J_his_sg)\n",
        "plt.show()\n",
        "\n",
        "print(sg_w)"
      ],
      "metadata": {
        "colab": {
          "base_uri": "https://localhost:8080/",
          "height": 282
        },
        "id": "KlUgnhYXRoOp",
        "outputId": "652f981f-ebd7-4958-fa21-ebb35c3cc8e1"
      },
      "execution_count": 107,
      "outputs": [
        {
          "output_type": "display_data",
          "data": {
            "image/png": "[encoded data removed]",
            "text/plain": [
              "<Figure size 432x288 with 1 Axes>"
            ]
          },
          "metadata": {
            "needs_background": "light"
          }
        },
        {
          "output_type": "stream",
          "name": "stdout",
          "text": [
            "[0.27159798 0.05212732 0.12044252]\n"
          ]
        }
      ]
    },
    {
      "cell_type": "code",
      "source": [
        "X_test = data_x_te.values[:, [0, 1]]\n",
        "m = X_test.shape[0]\n",
        "xmin = np.min(X_test, axis = 0)\n",
        "xmax = np.max(X_test, axis = 0)\n",
        "X_test = (X_test-xmin)/(xmax - xmin)\n",
        "\n",
        "pp = np.ones([m, 1]) # vector containg ones as all elements\n",
        "X_test = np.append(pp,X_test, axis=1) #Column of ones\n",
        "#print(X_test)\n",
        "\n",
        "y_test=data_y_te.values[:,0] #output\n",
        "ymin = np.min(y_test, axis = 0)\n",
        "ymax = np.max(y_test, axis = 0)\n",
        "y_test = (y_test- ymin)/(ymax-ymin) #Normalization\n",
        "#print(y_test)\n",
        "\n",
        "y_batch_pred = np.dot(X_test, batch_w)\n",
        "y_mb_pred = np.dot(X_test, mb_w)\n",
        "y_sg_pred = np.dot(X_test, sg_w)\n",
        "\n",
        "#print(y_batch_pred)"
      ],
      "metadata": {
        "id": "MRSOiSk8T6A6"
      },
      "execution_count": 108,
      "outputs": []
    },
    {
      "cell_type": "code",
      "source": [
        "def meanSquareError(Y_pred, Y_test):\n",
        "  mse = np.sum(np.square(Y_pred - Y_test).mean(axis = 0))\n",
        "  return mse"
      ],
      "metadata": {
        "id": "x4vfVGFCWMJg"
      },
      "execution_count": 109,
      "outputs": []
    },
    {
      "cell_type": "code",
      "source": [
        "def meanAbsoluteError(Y_pred, Y_test):\n",
        "  mae = np.sum(np.abs(Y_pred - Y_test).mean(axis = 0))\n",
        "  return mae"
      ],
      "metadata": {
        "id": "S9YxIXBuWgI5"
      },
      "execution_count": 110,
      "outputs": []
    },
    {
      "cell_type": "code",
      "source": [
        "def CC(Y, _Y):\n",
        "        diffY = Y - (np.mean(Y, axis=0) * np.ones(Y.shape))\n",
        "        diff_Y = _Y - (np.mean(_Y, axis=0) * np.ones(_Y.shape))\n",
        "        \n",
        "        #print(diffY)\n",
        "                \n",
        "        num = np.dot(diffY.transpose(), diff_Y)\n",
        "        deno = np.sqrt(np.dot(diffY.transpose(), diffY)[0])*np.sqrt(np.dot(diff_Y.transpose(), diff_Y)[0])\n",
        "        return num/deno"
      ],
      "metadata": {
        "id": "v2bgNus54xwQ"
      },
      "execution_count": 111,
      "outputs": []
    },
    {
      "cell_type": "code",
      "source": [
        "print(\"Batch: MSE \" + str(meanSquareError(y_batch_pred, y_test)) + \" and MAE \" + str(meanAbsoluteError(y_batch_pred, y_test)) + \" CC: \" + str(CC(np.array([y_test]).T, np.array([y_batch_pred]).T)[0][0]))\n",
        "print(\"MB: MSE \" + str(meanSquareError(y_mb_pred, y_test)) + \" and MAE \" + str(meanAbsoluteError(y_mb_pred, y_test)) + \" CC: \" + str(CC(np.array([y_test]).T, np.array([y_mb_pred]).T)[0][0]))\n",
        "print(\"SG: MSE \" + str(meanSquareError(y_sg_pred, y_test)) + \" and MAE \" + str(meanAbsoluteError(y_sg_pred, y_test)) + \" CC: \" + str(CC(np.array([y_test]).T, np.array([y_sg_pred]).T)[0][0]))"
      ],
      "metadata": {
        "id": "92sxij8OWwxo",
        "colab": {
          "base_uri": "https://localhost:8080/"
        },
        "outputId": "a3cbfe72-97d3-4f40-8a96-0ad41a23b815"
      },
      "execution_count": 112,
      "outputs": [
        {
          "output_type": "stream",
          "name": "stdout",
          "text": [
            "Batch: MSE 0.27489462696092165 and MAE 0.5004957610083197 CC: -0.007001690406414636\n",
            "MB: MSE 0.27732630369096944 and MAE 0.5005155817474787 CC: -0.0071885980537087675\n",
            "SG: MSE 0.27401989426643913 and MAE 0.5003327275886138 CC: -0.005474238521643374\n"
          ]
        }
      ]
    },
    {
      "cell_type": "code",
      "source": [
        "X_test = data_x_te.values[:, [0, 1]]\n",
        "m = X_test.shape[0]\n",
        "xmin = np.min(X_test, axis = 0)\n",
        "xmax = np.max(X_test, axis = 0)\n",
        "X_test = (X_test-xmin)/(xmax - xmin)\n",
        "\n",
        "pp = np.ones([m, 1]) # vector containg ones as all elements\n",
        "X_test = np.append(pp,X_test, axis=1) #Column of ones\n",
        "\n",
        "#print(X_test)\n",
        "\n",
        "y_test=data_y_te.values[:,0] #output\n",
        "ymin = np.min(y_test, axis = 0)\n",
        "ymax = np.max(y_test, axis = 0)\n",
        "y_test = (y_test- ymin)/(ymax-ymin) #Normalization\n",
        "#print(y_test)\n",
        "\n",
        "def make_pred(w):\n",
        "  y_pred = np.dot(X_test, w)\n",
        "  return y_pred\n",
        "#print(y_batch_pred)"
      ],
      "metadata": {
        "id": "9LZ4TJp65JNn"
      },
      "execution_count": 119,
      "outputs": []
    },
    {
      "cell_type": "code",
      "source": [
        "# checking for all combinations of both normals and algos\n",
        "\n",
        "alpha=0.05 ## learning rate\n",
        "iters=20000 ## iterations\n",
        "lamb=0.1 ## regularisation param\n",
        "batch_size = 50\n",
        "\n",
        "# X,y,w,alpha, iters, batch_size, lamb, l2 = True\n",
        "\n",
        "for k in [batch_gradient_descent, MB_gradient_descent, stochastic_gradient_descent]: # three algos\n",
        "  for j in range(3): # 3 kinds of regularisation\n",
        "    if j == 0: ## no regularisation\n",
        "      lamb = 0\n",
        "      if k == MB_gradient_descent:\n",
        "        calc_w,J_his = k(X = X, y = y, w = w, alpha = alpha, iters = iters, batch_size = batch_size, lamb = lamb)\n",
        "      else:\n",
        "        calc_w,J_his = k(X = X,y = y,w = w,alpha = alpha,iters = iters,lamb = lamb)\n",
        "      plt.plot(range(iters),J_his)\n",
        "      plt.show()\n",
        "      pr = make_pred(calc_w)\n",
        "      print(\"Batch: \" + str(k) + \" \" + str(meanSquareError(pr, y_test)) + \" and MAE \" + str(meanAbsoluteError(pr, y_test)) + \" CC: \" + str(CC(np.array([y_test]).T, np.array([pr]).T)[0][0]))\n",
        "    elif j == 1: ## l2 reg\n",
        "      if k == MB_gradient_descent:\n",
        "        calc_w,J_his = k(X = X, y = y, w = w, alpha = alpha, iters = iters, batch_size = batch_size, lamb = lamb, l2 = True)\n",
        "      else:\n",
        "        calc_w,J_his = k(X = X,y = y,w = w,alpha = alpha,iters = iters,lamb = lamb, l2 = True)\n",
        "      plt.plot(range(iters),J_his)\n",
        "      plt.show()\n",
        "      pr = make_pred(calc_w)\n",
        "      print(\"Batch: \" + str(k) + \" \" + str(meanSquareError(pr, y_test)) + \" and MAE \" + str(meanAbsoluteError(pr, y_test)) + \" CC: \" + str(CC(np.array([y_test]).T, np.array([pr]).T)[0][0]))\n",
        "    else:\n",
        "      if k == MB_gradient_descent:\n",
        "        calc_w,J_his = k(X = X, y = y, w = w, alpha = alpha, iters = iters, batch_size = batch_size, lamb = lamb, l2 = False)\n",
        "      else:\n",
        "        calc_w,J_his = k(X = X,y = y,w = w,alpha = alpha,iters = iters,lamb = lamb, l2 = False)\n",
        "      plt.plot(range(iters),J_his)\n",
        "      plt.show()\n",
        "      pr = make_pred(calc_w)\n",
        "      print(\"Batch: \" + str(k) + \" \" + str(meanSquareError(pr, y_test)) + \" and MAE \" + str(meanAbsoluteError(pr, y_test)) + \" CC: \" + str(CC(np.array([y_test]).T, np.array([pr]).T)[0][0]))\n"
      ],
      "metadata": {
        "colab": {
          "base_uri": "https://localhost:8080/",
          "height": 1000
        },
        "id": "7YXxOFtU2r8v",
        "outputId": "4fb33f19-b629-48b3-8683-44572d721904"
      },
      "execution_count": 123,
      "outputs": [
        {
          "output_type": "display_data",
          "data": {
            "image/png": "[encoded data removed]",
            "text/plain": [
              "<Figure size 432x288 with 1 Axes>"
            ]
          },
          "metadata": {
            "needs_background": "light"
          }
        },
        {
          "output_type": "stream",
          "name": "stdout",
          "text": [
            "Batch: <function batch_gradient_descent at 0x7fe2cf6c38c0> 0.26241526119770886 and MAE 0.4992600413530311 CC: 0.037558265358171965\n"
          ]
        },
        {
          "output_type": "display_data",
          "data": {
            "image/png": "[encoded data removed]",
            "text/plain": [
              "<Figure size 432x288 with 1 Axes>"
            ]
          },
          "metadata": {
            "needs_background": "light"
          }
        },
        {
          "output_type": "stream",
          "name": "stdout",
          "text": [
            "Batch: <function batch_gradient_descent at 0x7fe2cf6c38c0> 0.26241526119770886 and MAE 0.4992600413530311 CC: 0.037558265358171965\n"
          ]
        },
        {
          "output_type": "display_data",
          "data": {
            "image/png": "[encoded data removed]",
            "text/plain": [
              "<Figure size 432x288 with 1 Axes>"
            ]
          },
          "metadata": {
            "needs_background": "light"
          }
        },
        {
          "output_type": "stream",
          "name": "stdout",
          "text": [
            "Batch: <function batch_gradient_descent at 0x7fe2cf6c38c0> 0.26241526119770886 and MAE 0.4992600413530311 CC: 0.037558265358171965\n"
          ]
        },
        {
          "output_type": "display_data",
          "data": {
            "image/png": "[encoded data removed]",
            "text/plain": [
              "<Figure size 432x288 with 1 Axes>"
            ]
          },
          "metadata": {
            "needs_background": "light"
          }
        },
        {
          "output_type": "stream",
          "name": "stdout",
          "text": [
            "Batch: <function MB_gradient_descent at 0x7fe2cf5ce4d0> 0.26387705788804183 and MAE 0.4994541127972513 CC: 0.02096103574679628\n"
          ]
        },
        {
          "output_type": "display_data",
          "data": {
            "image/png": "[encoded data removed]",
            "text/plain": [
              "<Figure size 432x288 with 1 Axes>"
            ]
          },
          "metadata": {
            "needs_background": "light"
          }
        },
        {
          "output_type": "stream",
          "name": "stdout",
          "text": [
            "Batch: <function MB_gradient_descent at 0x7fe2cf5ce4d0> 0.2642967678248514 and MAE 0.4994456111524834 CC: 0.022230156875970984\n"
          ]
        },
        {
          "output_type": "display_data",
          "data": {
            "image/png": "[encoded data removed]",
            "text/plain": [
              "<Figure size 432x288 with 1 Axes>"
            ]
          },
          "metadata": {
            "needs_background": "light"
          }
        },
        {
          "output_type": "stream",
          "name": "stdout",
          "text": [
            "Batch: <function MB_gradient_descent at 0x7fe2cf5ce4d0> 0.26503189546395595 and MAE 0.49944138478435196 CC: 0.022871542296636984\n"
          ]
        },
        {
          "output_type": "display_data",
          "data": {
            "image/png": "[encoded data removed]",
            "text/plain": [
              "<Figure size 432x288 with 1 Axes>"
            ]
          },
          "metadata": {
            "needs_background": "light"
          }
        },
        {
          "output_type": "stream",
          "name": "stdout",
          "text": [
            "Batch: <function stochastic_gradient_descent at 0x7fe2d1d78a70> 0.26393228278368086 and MAE 0.4994767018869627 CC: 0.012004898470999156\n"
          ]
        },
        {
          "output_type": "display_data",
          "data": {
            "image/png": "[encoded data removed]",
            "text/plain": [
              "<Figure size 432x288 with 1 Axes>"
            ]
          },
          "metadata": {
            "needs_background": "light"
          }
        },
        {
          "output_type": "stream",
          "name": "stdout",
          "text": [
            "Batch: <function stochastic_gradient_descent at 0x7fe2d1d78a70> 0.25918779413406023 and MAE 0.49951220220094034 CC: 0.009277902801485325\n"
          ]
        },
        {
          "output_type": "display_data",
          "data": {
            "image/png": "[encoded data removed]",
            "text/plain": [
              "<Figure size 432x288 with 1 Axes>"
            ]
          },
          "metadata": {
            "needs_background": "light"
          }
        },
        {
          "output_type": "stream",
          "name": "stdout",
          "text": [
            "Batch: <function stochastic_gradient_descent at 0x7fe2d1d78a70> 0.26535876034964395 and MAE 0.499775053854005 CC: 0.003984879917998778\n"
          ]
        }
      ]
    }
  ]
}