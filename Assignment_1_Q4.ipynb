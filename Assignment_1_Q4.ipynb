{
  "nbformat": 4,
  "nbformat_minor": 0,
  "metadata": {
    "colab": {
      "name": "Assignment 1 - Q4",
      "provenance": [],
      "authorship_tag": "ABX9TyNGgy5boZFOzq3wX0FH855r",
      "include_colab_link": true
    },
    "kernelspec": {
      "name": "python3",
      "display_name": "Python 3"
    },
    "language_info": {
      "name": "python"
    }
  },
  "cells": [
    {
      "cell_type": "markdown",
      "metadata": {
        "id": "view-in-github",
        "colab_type": "text"
      },
      "source": [
        "<a href=\"https://colab.research.google.com/github/sanchitkalra/bits-f312-nnfl/blob/main/Assignment_1_Q4.ipynb\" target=\"_parent\"><img src=\"https://colab.research.google.com/assets/colab-badge.svg\" alt=\"Open In Colab\"/></a>"
      ]
    },
    {
      "cell_type": "code",
      "execution_count": 93,
      "metadata": {
        "colab": {
          "base_uri": "https://localhost:8080/"
        },
        "id": "S6kPCyO48U2t",
        "outputId": "765118d8-b846-47bc-96d7-38e02ab41548"
      },
      "outputs": [
        {
          "output_type": "stream",
          "name": "stdout",
          "text": [
            "Drive already mounted at /content/drive; to attempt to forcibly remount, call drive.mount(\"/content/drive\", force_remount=True).\n"
          ]
        }
      ],
      "source": [
        "from google.colab import drive\n",
        "drive.mount('/content/drive')"
      ]
    },
    {
      "cell_type": "code",
      "source": [
        "import pandas as pd\n",
        "import math\n",
        "import numpy as np\n",
        "import matplotlib.pyplot as plt\n",
        "np.random.seed(0)"
      ],
      "metadata": {
        "id": "FqFFsVJh8tHi"
      },
      "execution_count": 94,
      "outputs": []
    },
    {
      "cell_type": "code",
      "source": [
        "pip install openpyxl==3.0.9"
      ],
      "metadata": {
        "colab": {
          "base_uri": "https://localhost:8080/"
        },
        "id": "tTyHMA6c8v2q",
        "outputId": "a919b4ad-8890-4d4b-871d-2e48ab4348d3"
      },
      "execution_count": 95,
      "outputs": [
        {
          "output_type": "stream",
          "name": "stdout",
          "text": [
            "Requirement already satisfied: openpyxl==3.0.9 in /usr/local/lib/python3.7/dist-packages (3.0.9)\n",
            "Requirement already satisfied: et-xmlfile in /usr/local/lib/python3.7/dist-packages (from openpyxl==3.0.9) (1.1.0)\n"
          ]
        }
      ]
    },
    {
      "cell_type": "code",
      "source": [
        "data = pd.read_excel('/content/drive/MyDrive/data.xlsx',header=None)\n",
        "print(data)"
      ],
      "metadata": {
        "colab": {
          "base_uri": "https://localhost:8080/"
        },
        "id": "NanQlEg98xmh",
        "outputId": "56decfe7-6a65-4ed5-bf80-66234a570961"
      },
      "execution_count": 96,
      "outputs": [
        {
          "output_type": "stream",
          "name": "stdout",
          "text": [
            "              0           1           2   ...        58        59  60\n",
            "0     242.751526  281.801298  250.032405  ...  1.281972  1.844860   1\n",
            "1     216.585951  297.057883  300.938478  ...  1.598582  1.625395   1\n",
            "2     265.735536  339.271134  269.817305  ...  1.848160  1.706134   1\n",
            "3     207.631953  255.284282  254.563071  ...  1.710404  1.664391   1\n",
            "4     205.016124  333.265999  536.342842  ...  1.703264  1.535684   1\n",
            "...          ...         ...         ...  ...       ...       ...  ..\n",
            "3407  723.913528  343.529660  360.468834  ...  1.948758  1.758541   4\n",
            "3408  466.593370  215.858228  235.940729  ...  1.568558  1.494537   4\n",
            "3409  446.227198  219.936910  181.605753  ...  1.418510  1.772295   4\n",
            "3410  511.406437  215.379710  170.598957  ...  1.609298  1.664890   4\n",
            "3411  757.967516  268.431243  189.755280  ...  1.790039  1.560633   4\n",
            "\n",
            "[3412 rows x 61 columns]\n"
          ]
        }
      ]
    },
    {
      "cell_type": "code",
      "source": [
        "datan = data.values\n",
        "X = datan[:, 0:60]\n",
        "m = X.shape[0]\n",
        "print(m)\n",
        "xmin = np.min(X, axis = 0)\n",
        "xmax = np.max(X, axis = 0)\n",
        "X = (X-xmin)/(xmax - xmin)\n",
        "# pp = np.ones([datan.shape[0], 1]) # vector containg ones as all elements\n",
        "# X = np.append(pp,X, axis=1) #Column of ones\n",
        "#print(X)\n",
        "print(X.shape)\n",
        "y=datan[:, 60] # class label\n",
        "y = y - 1\n",
        "#print(y)\n",
        "print(y.shape)"
      ],
      "metadata": {
        "colab": {
          "base_uri": "https://localhost:8080/"
        },
        "id": "M_jInGZT88u-",
        "outputId": "2f20c303-c054-4422-dbe6-288ebd9dfa8e"
      },
      "execution_count": 97,
      "outputs": [
        {
          "output_type": "stream",
          "name": "stdout",
          "text": [
            "3412\n",
            "(3412, 60)\n",
            "(3412,)\n"
          ]
        }
      ]
    },
    {
      "cell_type": "code",
      "source": [
        "def sigmoid(z):\n",
        "  return 1.0/(1 + np.exp(-z)) ###activation function"
      ],
      "metadata": {
        "id": "TJxpNQmhB1gZ"
      },
      "execution_count": 98,
      "outputs": []
    },
    {
      "cell_type": "code",
      "source": [
        "def cost_function(X,y,w): ###define cost function\n",
        "  hypothesis = sigmoid(np.dot(X,w.T)) ###calculation of hypothesis for all instances\n",
        "  J =-(1/m)*(np.sum(y*(np.log(hypothesis)) + (1-y)*np.log(1-hypothesis))) ####as mention in\n",
        "  return J"
      ],
      "metadata": {
        "id": "2BlgUxYDRBhI"
      },
      "execution_count": 99,
      "outputs": []
    },
    {
      "cell_type": "code",
      "source": [
        "def batch_gradient_descent(X,y,w,alpha,iters, lamb):\n",
        "  cost_history = np.zeros(iters) # cost function for each iteration\n",
        "  #initalize our cost history list to store the cost function on every iteration\n",
        "  for i in range(iters):\n",
        "    hypothesis = sigmoid(np.dot(X,w.T))\n",
        "    w = w - (alpha/len(y)) * np.dot(hypothesis - y, X) + (lamb/2)*np.sum(w**2)\n",
        "    cost_history[i] = cost_function(X,y,w)\n",
        "  return w,cost_history"
      ],
      "metadata": {
        "id": "WLejmD11RDdl"
      },
      "execution_count": 128,
      "outputs": []
    },
    {
      "cell_type": "code",
      "source": [
        "def MB_gradient_descent(X,y,w,alpha, iters, batch_size):\n",
        "  cost_history = np.zeros(iters)\n",
        "  for i in range(iters):\n",
        "    rand_index = np.random.randint(len(y)-batch_size)\n",
        "    ind_x = X[rand_index:rand_index+batch_size]\n",
        "    ind_y = y[rand_index:rand_index+batch_size]\n",
        "    w = w - (alpha/batch_size) * (ind_x.T.dot(sigmoid(ind_x.dot(w)) - ind_y))\n",
        "    cost_history[i] = cost_function(ind_x,ind_y,w)\n",
        "  return w, cost_history"
      ],
      "metadata": {
        "id": "yqqA3CdtRIV0"
      },
      "execution_count": 101,
      "outputs": []
    },
    {
      "cell_type": "code",
      "source": [
        "def stochastic_gradient_descent(X,y,w,alpha, iters):\n",
        "  cost_history = np.zeros(iters)\n",
        "  for i in range(iters):\n",
        "    rand_index = np.random.randint(len(y)-1)\n",
        "    ind_x = X[rand_index:rand_index+1]\n",
        "    ind_y = y[rand_index:rand_index+1]\n",
        "    w = w - alpha * (ind_x.T.dot(sigmoid(ind_x.dot(w)) - ind_y))\n",
        "    cost_history[i] = cost_function(ind_x,ind_y,w)\n",
        "  return w, cost_history"
      ],
      "metadata": {
        "id": "v28ts6dTRRY9"
      },
      "execution_count": 102,
      "outputs": []
    },
    {
      "cell_type": "code",
      "source": [
        "from sklearn.model_selection import train_test_split\n",
        "\n",
        "x_train, x_test1, y_train, y_test1 = train_test_split(X, y, test_size=0.3)\n",
        "print(x_train.shape)\n",
        "print(x_test1.shape)"
      ],
      "metadata": {
        "colab": {
          "base_uri": "https://localhost:8080/"
        },
        "id": "NZl_uc4oX6HP",
        "outputId": "507863bf-1082-4b76-939c-fd2500563974"
      },
      "execution_count": 103,
      "outputs": [
        {
          "output_type": "stream",
          "name": "stdout",
          "text": [
            "(2388, 60)\n",
            "(1024, 60)\n"
          ]
        }
      ]
    },
    {
      "cell_type": "code",
      "source": [
        "x_test, x_val, y_test, y_val = train_test_split(x_test1, y_test1, test_size=0.33)\n",
        "print(x_test.shape)\n",
        "print(x_val.shape)"
      ],
      "metadata": {
        "colab": {
          "base_uri": "https://localhost:8080/"
        },
        "id": "n1FH6zONteff",
        "outputId": "37b7181c-63fc-4c52-b40c-b39fbe73a40d"
      },
      "execution_count": 104,
      "outputs": [
        {
          "output_type": "stream",
          "name": "stdout",
          "text": [
            "(686, 60)\n",
            "(338, 60)\n"
          ]
        }
      ]
    },
    {
      "cell_type": "code",
      "source": [
        "print(y_train.shape)"
      ],
      "metadata": {
        "colab": {
          "base_uri": "https://localhost:8080/"
        },
        "id": "ZD0LLFDY5u6-",
        "outputId": "7af44619-b3a8-4b80-f5e9-f0fcdc4554a5"
      },
      "execution_count": 105,
      "outputs": [
        {
          "output_type": "stream",
          "name": "stdout",
          "text": [
            "(2388,)\n"
          ]
        }
      ]
    },
    {
      "cell_type": "code",
      "source": [
        "#def x(x): return lambda: True if(x == 0) else False"
      ],
      "metadata": {
        "id": "TRV-yB8X3Y_4"
      },
      "execution_count": 106,
      "outputs": []
    },
    {
      "cell_type": "code",
      "source": [
        "#print([x for x in y_train.transpose()])"
      ],
      "metadata": {
        "id": "h9t3_U6d5XAX"
      },
      "execution_count": 107,
      "outputs": []
    },
    {
      "cell_type": "code",
      "source": [
        "fuck = lambda x: 1 if(x == 0) else 0"
      ],
      "metadata": {
        "id": "MarKo28652To"
      },
      "execution_count": 108,
      "outputs": []
    },
    {
      "cell_type": "code",
      "source": [
        "squares = np.array([fuck(x) for x in y_train])"
      ],
      "metadata": {
        "id": "Z2oV50KF6Ssk"
      },
      "execution_count": 109,
      "outputs": []
    },
    {
      "cell_type": "code",
      "source": [
        "print(squares)"
      ],
      "metadata": {
        "colab": {
          "base_uri": "https://localhost:8080/"
        },
        "id": "83ohDbvu6iqj",
        "outputId": "47b0bf64-dcf3-4203-ed46-27afce3d5125"
      },
      "execution_count": 110,
      "outputs": [
        {
          "output_type": "stream",
          "name": "stdout",
          "text": [
            "[1 1 1 ... 0 0 0]\n"
          ]
        }
      ]
    },
    {
      "cell_type": "code",
      "source": [
        "weights = []\n",
        "for k in range(4):\n",
        "  weights.append(np.random.randn(1,X.shape[1]).ravel())\n",
        "  #print(weights)\n",
        "\n",
        "#print(weights)"
      ],
      "metadata": {
        "id": "lD02NfBg7qaV"
      },
      "execution_count": 111,
      "outputs": []
    },
    {
      "cell_type": "code",
      "source": [
        "cases = []\n",
        "cases_t = []\n",
        "\n",
        "for k in range(4):\n",
        "  f = lambda x: 1 if(x == k) else 0\n",
        "  y_tr = np.array([f(x) for x in y_train])\n",
        "  y_te = np.array([f(x) for x in y_test])\n",
        "  print(y_tr)\n",
        "  cases.append(y_tr)\n",
        "  cases_t.append(y_te)"
      ],
      "metadata": {
        "colab": {
          "base_uri": "https://localhost:8080/"
        },
        "id": "uvbuPRF7vEj2",
        "outputId": "d6aa26bf-bb40-4a53-d1af-1420496b6362"
      },
      "execution_count": 124,
      "outputs": [
        {
          "output_type": "stream",
          "name": "stdout",
          "text": [
            "[1 1 1 ... 0 0 0]\n",
            "[0 0 0 ... 1 0 0]\n",
            "[0 0 0 ... 0 0 0]\n",
            "[0 0 0 ... 0 1 1]\n"
          ]
        }
      ]
    },
    {
      "cell_type": "code",
      "source": [
        "from sklearn.metrics import confusion_matrix\n",
        "\n",
        "for k in range(len(cases)):\n",
        "  alpha=0.02 ##learning rate\n",
        "  iters=20000 ###iterations\n",
        "  lamb = 0.1\n",
        "  batch_w,J_his = batch_gradient_descent(x_train,cases[k],weights[k],alpha,iters, lamb)\n",
        "  weights[k] = batch_w\n",
        "  plt.plot(range(iters),J_his)\n",
        "  plt.show()\n",
        "\n",
        "y_p = []\n",
        "\n",
        "for k in range(len(weights)):\n",
        "  z = np.dot(x_test, weights[k].T)\n",
        "  h = sigmoid(z)\n",
        "  y_pred=h>0.5\n",
        "  y_pred=y_pred.astype(int)\n",
        "  #print(y_pred)\n",
        "  y_p.append(y_pred)\n",
        "  #print(weights[k])\n",
        "  cm=confusion_matrix(cases_t[k], y_pred)\n",
        "  accuracy=(cm[0][0]+cm[1][1])/(len(y_test))\n",
        "  print(accuracy)"
      ],
      "metadata": {
        "colab": {
          "base_uri": "https://localhost:8080/",
          "height": 1000
        },
        "id": "56aK5i0T9Cko",
        "outputId": "b603713e-db76-45b2-f64c-9ef4e4561530"
      },
      "execution_count": 129,
      "outputs": [
        {
          "output_type": "stream",
          "name": "stderr",
          "text": [
            "/usr/local/lib/python3.7/dist-packages/ipykernel_launcher.py:3: RuntimeWarning: divide by zero encountered in log\n",
            "  This is separate from the ipykernel package so we can avoid doing imports until\n",
            "/usr/local/lib/python3.7/dist-packages/ipykernel_launcher.py:3: RuntimeWarning: invalid value encountered in multiply\n",
            "  This is separate from the ipykernel package so we can avoid doing imports until\n",
            "/usr/local/lib/python3.7/dist-packages/ipykernel_launcher.py:6: RuntimeWarning: overflow encountered in square\n",
            "  \n"
          ]
        },
        {
          "output_type": "display_data",
          "data": {
            "image/png": "[encoded data removed]",
            "text/plain": [
              "<Figure size 432x288 with 1 Axes>"
            ]
          },
          "metadata": {
            "needs_background": "light"
          }
        },
        {
          "output_type": "stream",
          "name": "stderr",
          "text": [
            "/usr/local/lib/python3.7/dist-packages/ipykernel_launcher.py:3: RuntimeWarning: divide by zero encountered in log\n",
            "  This is separate from the ipykernel package so we can avoid doing imports until\n",
            "/usr/local/lib/python3.7/dist-packages/ipykernel_launcher.py:3: RuntimeWarning: invalid value encountered in multiply\n",
            "  This is separate from the ipykernel package so we can avoid doing imports until\n",
            "/usr/local/lib/python3.7/dist-packages/ipykernel_launcher.py:6: RuntimeWarning: overflow encountered in square\n",
            "  \n"
          ]
        },
        {
          "output_type": "display_data",
          "data": {
            "image/png": "[encoded data removed]",
            "text/plain": [
              "<Figure size 432x288 with 1 Axes>"
            ]
          },
          "metadata": {
            "needs_background": "light"
          }
        },
        {
          "output_type": "stream",
          "name": "stderr",
          "text": [
            "/usr/local/lib/python3.7/dist-packages/ipykernel_launcher.py:3: RuntimeWarning: divide by zero encountered in log\n",
            "  This is separate from the ipykernel package so we can avoid doing imports until\n",
            "/usr/local/lib/python3.7/dist-packages/ipykernel_launcher.py:3: RuntimeWarning: invalid value encountered in multiply\n",
            "  This is separate from the ipykernel package so we can avoid doing imports until\n",
            "/usr/local/lib/python3.7/dist-packages/ipykernel_launcher.py:6: RuntimeWarning: overflow encountered in square\n",
            "  \n"
          ]
        },
        {
          "output_type": "display_data",
          "data": {
            "image/png": "[encoded data removed]",
            "text/plain": [
              "<Figure size 432x288 with 1 Axes>"
            ]
          },
          "metadata": {
            "needs_background": "light"
          }
        },
        {
          "output_type": "stream",
          "name": "stderr",
          "text": [
            "/usr/local/lib/python3.7/dist-packages/ipykernel_launcher.py:3: RuntimeWarning: divide by zero encountered in log\n",
            "  This is separate from the ipykernel package so we can avoid doing imports until\n",
            "/usr/local/lib/python3.7/dist-packages/ipykernel_launcher.py:3: RuntimeWarning: invalid value encountered in multiply\n",
            "  This is separate from the ipykernel package so we can avoid doing imports until\n",
            "/usr/local/lib/python3.7/dist-packages/ipykernel_launcher.py:6: RuntimeWarning: overflow encountered in square\n",
            "  \n"
          ]
        },
        {
          "output_type": "display_data",
          "data": {
            "image/png": "[encoded data removed]",
            "text/plain": [
              "<Figure size 432x288 with 1 Axes>"
            ]
          },
          "metadata": {
            "needs_background": "light"
          }
        },
        {
          "output_type": "stream",
          "name": "stdout",
          "text": [
            "0.7594752186588921\n",
            "0.7405247813411079\n",
            "0.7580174927113703\n",
            "0.7419825072886297\n"
          ]
        }
      ]
    },
    {
      "cell_type": "code",
      "source": [
        "from sklearn.model_selection import KFold\n",
        "kf10 = KFold(n_splits=10, shuffle=False)"
      ],
      "metadata": {
        "id": "_gPq-CW2QFUr"
      },
      "execution_count": 114,
      "outputs": []
    },
    {
      "cell_type": "code",
      "source": [
        "sets = []\n",
        "\n",
        "for train_index, test_index in kf10.split(X):\n",
        "    print(np.take(X,train_index).shape, np.take(y, train_index).shape, np.take(X,test_index).shape, np.take(y, test_index).shape)\n",
        "    sets.append([np.take(X,train_index), np.take(y, train_index), np.take(X,test_index), np.take(y, test_index)])"
      ],
      "metadata": {
        "colab": {
          "base_uri": "https://localhost:8080/"
        },
        "id": "U6SoirXuQI3T",
        "outputId": "100f251b-877f-4080-de4e-911d38cb17dd"
      },
      "execution_count": 115,
      "outputs": [
        {
          "output_type": "stream",
          "name": "stdout",
          "text": [
            "(3070,) (3070,) (342,) (342,)\n",
            "(3070,) (3070,) (342,) (342,)\n",
            "(3071,) (3071,) (341,) (341,)\n",
            "(3071,) (3071,) (341,) (341,)\n",
            "(3071,) (3071,) (341,) (341,)\n",
            "(3071,) (3071,) (341,) (341,)\n",
            "(3071,) (3071,) (341,) (341,)\n",
            "(3071,) (3071,) (341,) (341,)\n",
            "(3071,) (3071,) (341,) (341,)\n",
            "(3071,) (3071,) (341,) (341,)\n"
          ]
        }
      ]
    },
    {
      "cell_type": "code",
      "source": [
        "J_his = []\n",
        "\n",
        "for k in range(10):\n",
        "  alpha=0.02 ##learning rate\n",
        "  iters=2000 ###iterations\n",
        "  weights[k],his = batch_gradient_descent(sets[k][0], sets[k][1], weights[k], alpha, iters)\n",
        "  J_his.append(his)"
      ],
      "metadata": {
        "colab": {
          "base_uri": "https://localhost:8080/",
          "height": 374
        },
        "id": "FCcbAuWKQdD4",
        "outputId": "1e6aa81a-4a9e-4365-bfd1-602b6f206b4e"
      },
      "execution_count": 116,
      "outputs": [
        {
          "output_type": "error",
          "ename": "ValueError",
          "evalue": "ignored",
          "traceback": [
            "\u001b[0;31m---------------------------------------------------------------------------\u001b[0m",
            "\u001b[0;31mValueError\u001b[0m                                Traceback (most recent call last)",
            "\u001b[0;32m<ipython-input-116-c37aaa5b91f5>\u001b[0m in \u001b[0;36m<module>\u001b[0;34m()\u001b[0m\n\u001b[1;32m      4\u001b[0m   \u001b[0malpha\u001b[0m\u001b[0;34m=\u001b[0m\u001b[0;36m0.02\u001b[0m \u001b[0;31m##learning rate\u001b[0m\u001b[0;34m\u001b[0m\u001b[0;34m\u001b[0m\u001b[0m\n\u001b[1;32m      5\u001b[0m   \u001b[0miters\u001b[0m\u001b[0;34m=\u001b[0m\u001b[0;36m2000\u001b[0m \u001b[0;31m###iterations\u001b[0m\u001b[0;34m\u001b[0m\u001b[0;34m\u001b[0m\u001b[0m\n\u001b[0;32m----> 6\u001b[0;31m   \u001b[0mweights\u001b[0m\u001b[0;34m[\u001b[0m\u001b[0mk\u001b[0m\u001b[0;34m]\u001b[0m\u001b[0;34m,\u001b[0m\u001b[0mhis\u001b[0m \u001b[0;34m=\u001b[0m \u001b[0mbatch_gradient_descent\u001b[0m\u001b[0;34m(\u001b[0m\u001b[0msets\u001b[0m\u001b[0;34m[\u001b[0m\u001b[0mk\u001b[0m\u001b[0;34m]\u001b[0m\u001b[0;34m[\u001b[0m\u001b[0;36m0\u001b[0m\u001b[0;34m]\u001b[0m\u001b[0;34m,\u001b[0m \u001b[0msets\u001b[0m\u001b[0;34m[\u001b[0m\u001b[0mk\u001b[0m\u001b[0;34m]\u001b[0m\u001b[0;34m[\u001b[0m\u001b[0;36m1\u001b[0m\u001b[0;34m]\u001b[0m\u001b[0;34m,\u001b[0m \u001b[0mweights\u001b[0m\u001b[0;34m[\u001b[0m\u001b[0mk\u001b[0m\u001b[0;34m]\u001b[0m\u001b[0;34m,\u001b[0m \u001b[0malpha\u001b[0m\u001b[0;34m,\u001b[0m \u001b[0miters\u001b[0m\u001b[0;34m)\u001b[0m\u001b[0;34m\u001b[0m\u001b[0;34m\u001b[0m\u001b[0m\n\u001b[0m\u001b[1;32m      7\u001b[0m   \u001b[0mJ_his\u001b[0m\u001b[0;34m.\u001b[0m\u001b[0mappend\u001b[0m\u001b[0;34m(\u001b[0m\u001b[0mhis\u001b[0m\u001b[0;34m)\u001b[0m\u001b[0;34m\u001b[0m\u001b[0;34m\u001b[0m\u001b[0m\n",
            "\u001b[0;32m<ipython-input-100-07e0a0f23b37>\u001b[0m in \u001b[0;36mbatch_gradient_descent\u001b[0;34m(X, y, w, alpha, iters)\u001b[0m\n\u001b[1;32m      3\u001b[0m   \u001b[0;31m#initalize our cost history list to store the cost function on every iteration\u001b[0m\u001b[0;34m\u001b[0m\u001b[0;34m\u001b[0m\u001b[0;34m\u001b[0m\u001b[0m\n\u001b[1;32m      4\u001b[0m   \u001b[0;32mfor\u001b[0m \u001b[0mi\u001b[0m \u001b[0;32min\u001b[0m \u001b[0mrange\u001b[0m\u001b[0;34m(\u001b[0m\u001b[0miters\u001b[0m\u001b[0;34m)\u001b[0m\u001b[0;34m:\u001b[0m\u001b[0;34m\u001b[0m\u001b[0;34m\u001b[0m\u001b[0m\n\u001b[0;32m----> 5\u001b[0;31m     \u001b[0mhypothesis\u001b[0m \u001b[0;34m=\u001b[0m \u001b[0msigmoid\u001b[0m\u001b[0;34m(\u001b[0m\u001b[0mnp\u001b[0m\u001b[0;34m.\u001b[0m\u001b[0mdot\u001b[0m\u001b[0;34m(\u001b[0m\u001b[0mX\u001b[0m\u001b[0;34m,\u001b[0m\u001b[0mw\u001b[0m\u001b[0;34m.\u001b[0m\u001b[0mT\u001b[0m\u001b[0;34m)\u001b[0m\u001b[0;34m)\u001b[0m\u001b[0;34m\u001b[0m\u001b[0;34m\u001b[0m\u001b[0m\n\u001b[0m\u001b[1;32m      6\u001b[0m     \u001b[0mw\u001b[0m \u001b[0;34m=\u001b[0m \u001b[0mw\u001b[0m \u001b[0;34m-\u001b[0m \u001b[0;34m(\u001b[0m\u001b[0malpha\u001b[0m\u001b[0;34m/\u001b[0m\u001b[0mlen\u001b[0m\u001b[0;34m(\u001b[0m\u001b[0my\u001b[0m\u001b[0;34m)\u001b[0m\u001b[0;34m)\u001b[0m \u001b[0;34m*\u001b[0m \u001b[0mnp\u001b[0m\u001b[0;34m.\u001b[0m\u001b[0mdot\u001b[0m\u001b[0;34m(\u001b[0m\u001b[0mhypothesis\u001b[0m \u001b[0;34m-\u001b[0m \u001b[0my\u001b[0m\u001b[0;34m,\u001b[0m \u001b[0mX\u001b[0m\u001b[0;34m)\u001b[0m\u001b[0;34m\u001b[0m\u001b[0;34m\u001b[0m\u001b[0m\n\u001b[1;32m      7\u001b[0m     \u001b[0mcost_history\u001b[0m\u001b[0;34m[\u001b[0m\u001b[0mi\u001b[0m\u001b[0;34m]\u001b[0m \u001b[0;34m=\u001b[0m \u001b[0mcost_function\u001b[0m\u001b[0;34m(\u001b[0m\u001b[0mX\u001b[0m\u001b[0;34m,\u001b[0m\u001b[0my\u001b[0m\u001b[0;34m,\u001b[0m\u001b[0mw\u001b[0m\u001b[0;34m)\u001b[0m\u001b[0;34m\u001b[0m\u001b[0;34m\u001b[0m\u001b[0m\n",
            "\u001b[0;32m<__array_function__ internals>\u001b[0m in \u001b[0;36mdot\u001b[0;34m(*args, **kwargs)\u001b[0m\n",
            "\u001b[0;31mValueError\u001b[0m: shapes (3070,) and (60,) not aligned: 3070 (dim 0) != 60 (dim 0)"
          ]
        }
      ]
    }
  ]
}