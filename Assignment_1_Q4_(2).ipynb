{
  "nbformat": 4,
  "nbformat_minor": 0,
  "metadata": {
    "colab": {
      "name": "Assignment 1 - Q4 (2)",
      "provenance": [],
      "collapsed_sections": [],
      "authorship_tag": "ABX9TyMc9WrbXvyjzujyBX3LdA42",
      "include_colab_link": true
    },
    "kernelspec": {
      "name": "python3",
      "display_name": "Python 3"
    },
    "language_info": {
      "name": "python"
    }
  },
  "cells": [
    {
      "cell_type": "markdown",
      "metadata": {
        "id": "view-in-github",
        "colab_type": "text"
      },
      "source": [
        "<a href=\"https://colab.research.google.com/github/sanchitkalra/bits-f312-nnfl/blob/main/Assignment_1_Q4_(2).ipynb\" target=\"_parent\"><img src=\"https://colab.research.google.com/assets/colab-badge.svg\" alt=\"Open In Colab\"/></a>"
      ]
    },
    {
      "cell_type": "code",
      "execution_count": 1,
      "metadata": {
        "id": "hoSOPV3po_6L"
      },
      "outputs": [],
      "source": [
        "import pandas as pd\n",
        "import math\n",
        "import numpy as np\n",
        "import matplotlib.pyplot as plt\n",
        "from sklearn.model_selection import train_test_split\n",
        "from sklearn.metrics import confusion_matrix\n",
        "np.random.seed(0)"
      ]
    },
    {
      "cell_type": "code",
      "source": [
        "pip install openpyxl==3.0.9"
      ],
      "metadata": {
        "colab": {
          "base_uri": "https://localhost:8080/"
        },
        "id": "1Igl4SnmpILC",
        "outputId": "9cdcac3f-164d-4658-aaaa-6b0898926342"
      },
      "execution_count": 2,
      "outputs": [
        {
          "output_type": "stream",
          "name": "stdout",
          "text": [
            "Requirement already satisfied: openpyxl==3.0.9 in /usr/local/lib/python3.7/dist-packages (3.0.9)\n",
            "Requirement already satisfied: et-xmlfile in /usr/local/lib/python3.7/dist-packages (from openpyxl==3.0.9) (1.1.0)\n"
          ]
        }
      ]
    },
    {
      "cell_type": "code",
      "source": [
        "from google.colab import drive\n",
        "drive.mount('/content/drive')"
      ],
      "metadata": {
        "colab": {
          "base_uri": "https://localhost:8080/"
        },
        "id": "BUTxCAGLpIxj",
        "outputId": "d03b85d6-3884-486d-fcdb-96ddbc0fdce4"
      },
      "execution_count": 3,
      "outputs": [
        {
          "output_type": "stream",
          "name": "stdout",
          "text": [
            "Mounted at /content/drive\n"
          ]
        }
      ]
    },
    {
      "cell_type": "markdown",
      "source": [
        "**Import the data from Google Drive**"
      ],
      "metadata": {
        "id": "96XS2BpTteq-"
      }
    },
    {
      "cell_type": "code",
      "source": [
        "data = pd.read_excel('/content/drive/MyDrive/data.xlsx',header=None)\n",
        "print(data)"
      ],
      "metadata": {
        "colab": {
          "base_uri": "https://localhost:8080/"
        },
        "id": "UIl5tmRjpLDt",
        "outputId": "e1a1c919-d1f3-477a-87ba-2343649a899f"
      },
      "execution_count": 4,
      "outputs": [
        {
          "output_type": "stream",
          "name": "stdout",
          "text": [
            "              0           1           2           3           4           5   \\\n",
            "0     242.751526  281.801298  250.032405  132.099709   61.166502  247.837695   \n",
            "1     216.585951  297.057883  300.938478  131.358295  105.976730  273.299350   \n",
            "2     265.735536  339.271134  269.817305  102.304781   83.869539  281.962656   \n",
            "3     207.631953  255.284282  254.563071  229.883639   87.492384  303.314846   \n",
            "4     205.016124  333.265999  536.342842  106.237587  155.700409  272.692251   \n",
            "...          ...         ...         ...         ...         ...         ...   \n",
            "3407  723.913528  343.529660  360.468834  233.711682  177.309124  717.744261   \n",
            "3408  466.593370  215.858228  235.940729  309.475340  126.789443  333.123293   \n",
            "3409  446.227198  219.936910  181.605753  160.483773  106.179660  416.263221   \n",
            "3410  511.406437  215.379710  170.598957   89.543149   73.107090  457.783309   \n",
            "3411  757.967516  268.431243  189.755280  156.957408  126.298293  835.417941   \n",
            "\n",
            "              6           7           8           9   ...        51        52  \\\n",
            "0     306.999281  271.560155  126.038604   74.050379  ...  1.891884  1.612099   \n",
            "1     380.251154  335.864007  109.527577  113.088266  ...  1.779043  1.592470   \n",
            "2     386.806725  347.201912  105.945737  104.016513  ...  1.524681  1.763061   \n",
            "3     310.329644  276.926943  207.445146  108.620999  ...  1.907888  1.638839   \n",
            "4     367.533485  537.061350  110.167703  133.100524  ...  1.818213  1.860656   \n",
            "...          ...         ...         ...         ...  ...       ...       ...   \n",
            "3407  448.791348  379.113979  248.029948  170.735388  ...  1.928222  1.659960   \n",
            "3408  200.966375  173.674275  301.590225  110.481002  ...  1.841637  1.836036   \n",
            "3409  251.314023  196.936825  247.802048  114.649466  ...  1.953375  1.831422   \n",
            "3410  230.770136  178.846709  123.660090   78.208996  ...  1.897879  1.903539   \n",
            "3411  337.510327  247.097266  257.882395  180.132129  ...  1.906428  1.674688   \n",
            "\n",
            "            53        54        55        56        57        58        59  60  \n",
            "0     1.396853  1.437446  1.880098  1.872789  1.603211  1.281972  1.844860   1  \n",
            "1     1.749967  1.430117  1.935712  1.739076  1.572927  1.598582  1.625395   1  \n",
            "2     1.935089  1.642102  1.929802  1.522725  1.849940  1.848160  1.706134   1  \n",
            "3     1.604410  1.683284  1.845578  1.978957  1.682881  1.710404  1.664391   1  \n",
            "4     1.789285  1.606024  1.758654  1.834728  1.740251  1.703264  1.535684   1  \n",
            "...        ...       ...       ...       ...       ...       ...       ...  ..  \n",
            "3407  1.658291  1.640978  1.888330  1.933384  1.661284  1.948758  1.758541   4  \n",
            "3408  1.556465  1.898255  1.960397  1.973080  1.740866  1.568558  1.494537   4  \n",
            "3409  1.673341  1.889050  1.862514  2.004401  1.861006  1.418510  1.772295   4  \n",
            "3410  1.836154  1.841137  1.789531  1.837314  1.957492  1.609298  1.664890   4  \n",
            "3411  1.805059  1.529764  1.835415  2.056879  1.732298  1.790039  1.560633   4  \n",
            "\n",
            "[3412 rows x 61 columns]\n"
          ]
        }
      ]
    },
    {
      "cell_type": "code",
      "source": [
        "# Read the data\n",
        "datan = data.values\n",
        "\n",
        "X = datan[:, 0:60]\n",
        "m = X.shape[0]\n",
        "print(m)\n",
        "\n",
        "\n",
        "# Normalise X\n",
        "xmin = np.min(X, axis = 0)\n",
        "xmax = np.max(X, axis = 0)\n",
        "X = (X-xmin)/(xmax - xmin)\n",
        "print(X.shape)\n",
        "\n",
        "# Normalise Y\n",
        "y=datan[:, 60]\n",
        "y = y - 1\n",
        "print(y.shape)"
      ],
      "metadata": {
        "colab": {
          "base_uri": "https://localhost:8080/"
        },
        "id": "GHmYuK1QpNpr",
        "outputId": "1ef28574-2897-43c5-b2e9-5cfbd570f476"
      },
      "execution_count": 5,
      "outputs": [
        {
          "output_type": "stream",
          "name": "stdout",
          "text": [
            "3412\n",
            "(3412, 60)\n",
            "(3412,)\n"
          ]
        }
      ]
    },
    {
      "cell_type": "markdown",
      "source": [
        "### **Defining the requisite functions**\n",
        "\n",
        "Each function has a l2 parameter that allows us to choose between L1 and L2 norm regularisation with this flag. If the value of lambda is 0, there is no regularisation irrespective of the flag value"
      ],
      "metadata": {
        "id": "2JKlGGZwtW4Q"
      }
    },
    {
      "cell_type": "code",
      "source": [
        "def sigmoid(z):\n",
        "  return 1.0/(1 + np.exp(-z)) ###activation function"
      ],
      "metadata": {
        "id": "FACZvbwDpP7p"
      },
      "execution_count": 6,
      "outputs": []
    },
    {
      "cell_type": "code",
      "source": [
        "def cost_function(X,y,w, lamb, l2 = True): \n",
        "    hypothesis = sigmoid(np.dot(X,w.T)) \n",
        "    if l2:\n",
        "        J =-(1/m)*(np.sum(y*(np.log(hypothesis)) + (1-y)*np.log(1-hypothesis))) + (lamb/2)*np.sum(np.abs(w)**2) \n",
        "    else:\n",
        "        J =-(1/m)*(np.sum(y*(np.log(hypothesis)) + (1-y)*np.log(1-hypothesis))) + (lamb/2)*np.sum(np.abs(w)) \n",
        "    return J"
      ],
      "metadata": {
        "id": "Nuyx1LJTpRSt"
      },
      "execution_count": 7,
      "outputs": []
    },
    {
      "cell_type": "code",
      "source": [
        "def batch_gradient_descent(X,y,w,alpha,iters, lamb, l2 = True):\n",
        "    cost_history = np.zeros(iters) \n",
        "    for i in range(iters):\n",
        "        hypothesis = sigmoid(np.dot(X,w.T))\n",
        "        if l2:\n",
        "            w = w - (alpha/len(y)) * np.dot(hypothesis - y, X) - (alpha*lamb)*w\n",
        "        else:\n",
        "            w = w - (alpha/len(y)) * np.dot(hypothesis - y, X) - ((alpha*lamb)/2)*np.sign(w)\n",
        "        cost_history[i] = cost_function(X,y,w, lamb)\n",
        "    return w,cost_history"
      ],
      "metadata": {
        "id": "O7me-URJpS1D"
      },
      "execution_count": 8,
      "outputs": []
    },
    {
      "cell_type": "code",
      "source": [
        "def MB_gradient_descent(X,y,w,alpha, iters, batch_size, lamb, l2 = True):\n",
        "    cost_history = np.zeros(iters)\n",
        "    for i in range(iters):\n",
        "        rand_index = np.random.randint(len(y)-batch_size)\n",
        "        ind_x = X[rand_index:rand_index+batch_size]\n",
        "        ind_y = y[rand_index:rand_index+batch_size]\n",
        "        if l2:\n",
        "            w = w - (alpha/batch_size) * (ind_x.T.dot(sigmoid(ind_x.dot(w)) - ind_y)) - (alpha*lamb)*w\n",
        "        else:\n",
        "            w = w - (alpha/batch_size) * (ind_x.T.dot(sigmoid(ind_x.dot(w)) - ind_y)) - ((alpha*lamb)/2)*np.sign(w)\n",
        "        cost_history[i] = cost_function(ind_x,ind_y,w, lamb)\n",
        "    return w, cost_history"
      ],
      "metadata": {
        "id": "HPcAFE35pWHn"
      },
      "execution_count": 9,
      "outputs": []
    },
    {
      "cell_type": "code",
      "source": [
        "def stochastic_gradient_descent(X,y,w,alpha, iters, lamb, l2 = True):\n",
        "    cost_history = np.zeros(iters)\n",
        "    for i in range(iters):\n",
        "        rand_index = np.random.randint(len(y)-1)\n",
        "        ind_x = X[rand_index:rand_index+1]\n",
        "        ind_y = y[rand_index:rand_index+1]\n",
        "        if l2:\n",
        "            w = w - alpha * (ind_x.T.dot(sigmoid(ind_x.dot(w)) - ind_y)) - (alpha*lamb)*w\n",
        "        else:\n",
        "            w = w - alpha * (ind_x.T.dot(sigmoid(ind_x.dot(w)) - ind_y)) - ((alpha*lamb)/2)*np.sign(w)\n",
        "        cost_history[i] = cost_function(ind_x,ind_y,w, lamb)\n",
        "    return w, cost_history"
      ],
      "metadata": {
        "id": "N7oapBGkpXVA"
      },
      "execution_count": 10,
      "outputs": []
    },
    {
      "cell_type": "markdown",
      "source": [
        "### Holdout Validation\n",
        "Splitting the data into 3 sets, 70% training, 20% test and 10% validation"
      ],
      "metadata": {
        "id": "aU7NRbZDuF5r"
      }
    },
    {
      "cell_type": "code",
      "source": [
        "x_train, x_test1, y_train, y_test1 = train_test_split(X, y, test_size=0.3)\n",
        "print(x_train.shape)\n",
        "print(x_test1.shape)"
      ],
      "metadata": {
        "colab": {
          "base_uri": "https://localhost:8080/"
        },
        "id": "4EIIclAHpZlq",
        "outputId": "1697c02a-d9dc-45f9-c759-2b5c54c945a4"
      },
      "execution_count": 11,
      "outputs": [
        {
          "output_type": "stream",
          "name": "stdout",
          "text": [
            "(2388, 60)\n",
            "(1024, 60)\n"
          ]
        }
      ]
    },
    {
      "cell_type": "code",
      "source": [
        "x_test, x_val, y_test, y_val = train_test_split(x_test1, y_test1, test_size=0.33)\n",
        "print(x_test.shape)\n",
        "print(x_val.shape)"
      ],
      "metadata": {
        "colab": {
          "base_uri": "https://localhost:8080/"
        },
        "id": "eakMmVC1pa6d",
        "outputId": "ddf81fe8-69e6-472d-ff6b-b034abfbf7f8"
      },
      "execution_count": 12,
      "outputs": [
        {
          "output_type": "stream",
          "name": "stdout",
          "text": [
            "(686, 60)\n",
            "(338, 60)\n"
          ]
        }
      ]
    },
    {
      "cell_type": "code",
      "source": [
        "f = lambda x: 1 if(x == 0) else 0"
      ],
      "metadata": {
        "id": "WiY-7CPApcM0"
      },
      "execution_count": 13,
      "outputs": []
    },
    {
      "cell_type": "code",
      "source": [
        "squares = np.array([f(x) for x in y_train])"
      ],
      "metadata": {
        "id": "APdtgvTZpeDg"
      },
      "execution_count": 14,
      "outputs": []
    },
    {
      "cell_type": "code",
      "source": [
        "# Seperating the data into 4 sets.\n",
        "# Each set has the value corresponding to k set to 1 and the rest 0.\n",
        "\n",
        "cases = []\n",
        "cases_t = []\n",
        "\n",
        "for k in range(4):\n",
        "  f = lambda x: 1 if(x == k) else 0\n",
        "  y_tr = np.array([f(x) for x in y_train])\n",
        "  y_te = np.array([f(x) for x in y_test])\n",
        "  print(y_tr)\n",
        "  cases.append(y_tr)\n",
        "  cases_t.append(y_te)"
      ],
      "metadata": {
        "colab": {
          "base_uri": "https://localhost:8080/"
        },
        "id": "7CMkkQZFpkYj",
        "outputId": "e51315ab-4f37-4527-a583-0be6526549eb"
      },
      "execution_count": 15,
      "outputs": [
        {
          "output_type": "stream",
          "name": "stdout",
          "text": [
            "[1 1 1 ... 0 0 0]\n",
            "[0 0 0 ... 1 0 0]\n",
            "[0 0 0 ... 0 0 0]\n",
            "[0 0 0 ... 0 1 1]\n"
          ]
        }
      ]
    },
    {
      "cell_type": "code",
      "source": [
        "# define the required weights\n",
        "# The four different weights for the four different models required by the One-vs-All classifier\n",
        "# Or the six different weights for the one-vs-one classifier\n",
        "\n",
        "def prep(n):\n",
        "    weights = []\n",
        "    for k in range(n):\n",
        "        weights.append(np.random.randn(1,X.shape[1]).ravel())\n",
        "        \n",
        "    return weights"
      ],
      "metadata": {
        "id": "c61KF1E6plrJ"
      },
      "execution_count": 16,
      "outputs": []
    },
    {
      "cell_type": "code",
      "source": [
        "# the actual training function\n",
        "def train(x_train, weights, cases, alpha, iters, lamb, batch_size, func, l2 = True):\n",
        "    for k in range(len(cases)):\n",
        "        if func == MB_gradient_descent:\n",
        "            calc_w,J_his = func(x_train, cases[k], weights[k], alpha, iters, batch_size, lamb, l2)\n",
        "        else:\n",
        "            calc_w,J_his = func(x_train, cases[k], weights[k], alpha, iters, lamb, l2)\n",
        "        weights[k] = calc_w\n",
        "    return (weights, J_his)"
      ],
      "metadata": {
        "id": "5f4HTi1Gpmw5"
      },
      "execution_count": 17,
      "outputs": []
    },
    {
      "cell_type": "code",
      "source": [
        "def show_plot(iters, J_his):\n",
        "    plt.plot(range(iters),J_his)\n",
        "    plt.show()"
      ],
      "metadata": {
        "id": "HFhxaSOqpoB1"
      },
      "execution_count": 18,
      "outputs": []
    },
    {
      "cell_type": "code",
      "source": [
        "def make_pred(weights, x_val):\n",
        "    Y_Pred = []\n",
        "    for k in range(len(weights)):\n",
        "        z = np.dot(x_val, weights[k].T)\n",
        "        h = sigmoid(z)\n",
        "        y_pred=h>0.5\n",
        "        y_pred=y_pred.astype(int)\n",
        "        Y_Pred.append(y_pred)\n",
        "    return Y_Pred"
      ],
      "metadata": {
        "id": "K-eTFSSFppJ1"
      },
      "execution_count": 19,
      "outputs": []
    },
    {
      "cell_type": "code",
      "source": [
        "def get_accuracy(Y_Pred, y_val):\n",
        "    Y_Pred = np.array(Y_Pred).T\n",
        "    max = np.argmax(Y_Pred, axis=1)\n",
        "    cm=confusion_matrix(y_val, max)\n",
        "    accuracy=(cm[0][0]+cm[1][1])/(len(y_val))\n",
        "    return accuracy"
      ],
      "metadata": {
        "id": "Ymd229OJpqYE"
      },
      "execution_count": 20,
      "outputs": []
    },
    {
      "cell_type": "code",
      "source": [
        "def run_all_functions_and_reg(alpha, iters, lamb, batch_size, show_plots):\n",
        "    for func in [batch_gradient_descent, MB_gradient_descent, stochastic_gradient_descent]: # three algos\n",
        "        for j in range(3): # 3 kinds of regularisation\n",
        "            accuracy = 0\n",
        "            if j == 0: ## no regularisation\n",
        "                lamb = 0\n",
        "                weights = prep(4)\n",
        "                training_output = train(x_train, weights, cases, alpha, iters, lamb, batch_size, func, l2 = True)\n",
        "                Y_Pred = make_pred(training_output[0], x_val)\n",
        "                accuracy = get_accuracy(Y_Pred, y_val)\n",
        "                if show_plots:\n",
        "                    show_plot(iters, training_output[1])\n",
        "                print(\"Accuracy \" + str(accuracy) + \" with \" + str(func) + \" at alpha \" + str(alpha) + \" at iters \" + str(iters) + \" at lamb \" + str(lamb))\n",
        "            elif j == 1: ## l2 reg\n",
        "                weights = prep(4)\n",
        "                training_output = train(x_train, weights, cases, alpha, iters, lamb, batch_size, func, l2 = True)\n",
        "                Y_Pred = make_pred(training_output[0], x_val)\n",
        "                if show_plots:\n",
        "                    show_plot(iters, training_output[1])\n",
        "                print(\"Accuracy \" + str(accuracy) + \" with \" + str(func) + \" and L2 at alpha \" + str(alpha) + \" at iters \" + str(iters) + \" at lamb \" + str(lamb))\n",
        "            else: ## l1 reg\n",
        "                weights = prep(4)\n",
        "                training_output = train(x_train, weights, cases, alpha, iters, lamb, batch_size, func, l2 = False)\n",
        "                Y_Pred = make_pred(training_output[0], x_val)\n",
        "                if show_plots:\n",
        "                    show_plot(iters, training_output[1])\n",
        "                print(\"Accuracy \" + str(accuracy) + \" with \" + str(func) + \" and L1 at alpha \" + str(alpha) + \" at iters \" + str(iters) + \" at lamb \" + str(lamb))\n",
        "\n",
        "            return (accuracy, alpha, iters, lamb, batch_size, func)"
      ],
      "metadata": {
        "id": "XTh3iheSprgC"
      },
      "execution_count": 21,
      "outputs": []
    },
    {
      "cell_type": "markdown",
      "source": [
        "In the following cell, we run 2,025 combinations to find the optimal value for the parameters: alpha, lambda, iterations, and batch size"
      ],
      "metadata": {
        "id": "Na_dv8IPvR6v"
      }
    },
    {
      "cell_type": "code",
      "source": [
        "alphas=[0.01, 0.02, 0.05] ##learning rate\n",
        "iterss=[2000, 5000, 10000] ###iterations\n",
        "lambs = [0.1, 0.2, 0.5]\n",
        "batch_sizes = [500, 1000, 1500]\n",
        "\n",
        "current_accuracy = 0\n",
        "current_alpha = 0\n",
        "current_iters = 0\n",
        "current_lamb = 0\n",
        "current_batch_size = 0\n",
        "current_algo = \"\"\n",
        "\n",
        "for alpha in alphas:\n",
        "    for iters in iterss:\n",
        "        for lamb in lambs:\n",
        "            for batch_size in batch_sizes:\n",
        "                # (r_accuracy, r_alpha, r_iters, r_lamb, r_batch_size)\n",
        "                output = run_all_functions_and_reg(alpha, iters, lamb, batch_size, False)\n",
        "                if output[0] >= current_accuracy:\n",
        "                  current_accuracy = output[0]\n",
        "                  current_alpha = output[1]\n",
        "                  current_iters = output[2]\n",
        "                  current_lamb = output[3]\n",
        "                  current_batch_size = output[4]\n",
        "                  current_algo = str(output[5])"
      ],
      "metadata": {
        "colab": {
          "base_uri": "https://localhost:8080/",
          "height": 503
        },
        "id": "EF3IQnbWptPt",
        "outputId": "22170122-0b43-44a2-b316-864ee5bbac44"
      },
      "execution_count": 23,
      "outputs": [
        {
          "output_type": "stream",
          "name": "stdout",
          "text": [
            "Accuracy 0.28106508875739644 with <function batch_gradient_descent at 0x7f827f851710> at alpha 0.01 at iters 2000 at lamb 0\n",
            "Accuracy 0.26627218934911245 with <function batch_gradient_descent at 0x7f827f851710> at alpha 0.01 at iters 2000 at lamb 0\n",
            "Accuracy 0.26331360946745563 with <function batch_gradient_descent at 0x7f827f851710> at alpha 0.01 at iters 2000 at lamb 0\n",
            "Accuracy 0.28106508875739644 with <function batch_gradient_descent at 0x7f827f851710> at alpha 0.01 at iters 2000 at lamb 0\n",
            "Accuracy 0.2692307692307692 with <function batch_gradient_descent at 0x7f827f851710> at alpha 0.01 at iters 2000 at lamb 0\n"
          ]
        },
        {
          "output_type": "error",
          "ename": "KeyboardInterrupt",
          "evalue": "ignored",
          "traceback": [
            "\u001b[0;31m---------------------------------------------------------------------------\u001b[0m",
            "\u001b[0;31mKeyboardInterrupt\u001b[0m                         Traceback (most recent call last)",
            "\u001b[0;32m<ipython-input-23-e30174131288>\u001b[0m in \u001b[0;36m<module>\u001b[0;34m()\u001b[0m\n\u001b[1;32m     16\u001b[0m             \u001b[0;32mfor\u001b[0m \u001b[0mbatch_size\u001b[0m \u001b[0;32min\u001b[0m \u001b[0mbatch_sizes\u001b[0m\u001b[0;34m:\u001b[0m\u001b[0;34m\u001b[0m\u001b[0;34m\u001b[0m\u001b[0m\n\u001b[1;32m     17\u001b[0m                 \u001b[0;31m# (r_accuracy, r_alpha, r_iters, r_lamb, r_batch_size)\u001b[0m\u001b[0;34m\u001b[0m\u001b[0;34m\u001b[0m\u001b[0;34m\u001b[0m\u001b[0m\n\u001b[0;32m---> 18\u001b[0;31m                 \u001b[0moutput\u001b[0m \u001b[0;34m=\u001b[0m \u001b[0mrun_all_functions_and_reg\u001b[0m\u001b[0;34m(\u001b[0m\u001b[0malpha\u001b[0m\u001b[0;34m,\u001b[0m \u001b[0miters\u001b[0m\u001b[0;34m,\u001b[0m \u001b[0mlamb\u001b[0m\u001b[0;34m,\u001b[0m \u001b[0mbatch_size\u001b[0m\u001b[0;34m,\u001b[0m \u001b[0;32mFalse\u001b[0m\u001b[0;34m)\u001b[0m\u001b[0;34m\u001b[0m\u001b[0;34m\u001b[0m\u001b[0m\n\u001b[0m\u001b[1;32m     19\u001b[0m                 \u001b[0;32mif\u001b[0m \u001b[0moutput\u001b[0m\u001b[0;34m[\u001b[0m\u001b[0;36m0\u001b[0m\u001b[0;34m]\u001b[0m \u001b[0;34m>=\u001b[0m \u001b[0mcurrent_accuracy\u001b[0m\u001b[0;34m:\u001b[0m\u001b[0;34m\u001b[0m\u001b[0;34m\u001b[0m\u001b[0m\n\u001b[1;32m     20\u001b[0m                   \u001b[0mcurrent_accuracy\u001b[0m \u001b[0;34m=\u001b[0m \u001b[0moutput\u001b[0m\u001b[0;34m[\u001b[0m\u001b[0;36m0\u001b[0m\u001b[0;34m]\u001b[0m\u001b[0;34m\u001b[0m\u001b[0;34m\u001b[0m\u001b[0m\n",
            "\u001b[0;32m<ipython-input-21-23a23cda6ba1>\u001b[0m in \u001b[0;36mrun_all_functions_and_reg\u001b[0;34m(alpha, iters, lamb, batch_size, show_plots)\u001b[0m\n\u001b[1;32m      6\u001b[0m                 \u001b[0mlamb\u001b[0m \u001b[0;34m=\u001b[0m \u001b[0;36m0\u001b[0m\u001b[0;34m\u001b[0m\u001b[0;34m\u001b[0m\u001b[0m\n\u001b[1;32m      7\u001b[0m                 \u001b[0mweights\u001b[0m \u001b[0;34m=\u001b[0m \u001b[0mprep\u001b[0m\u001b[0;34m(\u001b[0m\u001b[0;36m4\u001b[0m\u001b[0;34m)\u001b[0m\u001b[0;34m\u001b[0m\u001b[0;34m\u001b[0m\u001b[0m\n\u001b[0;32m----> 8\u001b[0;31m                 \u001b[0mtraining_output\u001b[0m \u001b[0;34m=\u001b[0m \u001b[0mtrain\u001b[0m\u001b[0;34m(\u001b[0m\u001b[0mx_train\u001b[0m\u001b[0;34m,\u001b[0m \u001b[0mweights\u001b[0m\u001b[0;34m,\u001b[0m \u001b[0mcases\u001b[0m\u001b[0;34m,\u001b[0m \u001b[0malpha\u001b[0m\u001b[0;34m,\u001b[0m \u001b[0miters\u001b[0m\u001b[0;34m,\u001b[0m \u001b[0mlamb\u001b[0m\u001b[0;34m,\u001b[0m \u001b[0mbatch_size\u001b[0m\u001b[0;34m,\u001b[0m \u001b[0mfunc\u001b[0m\u001b[0;34m,\u001b[0m \u001b[0ml2\u001b[0m \u001b[0;34m=\u001b[0m \u001b[0;32mTrue\u001b[0m\u001b[0;34m)\u001b[0m\u001b[0;34m\u001b[0m\u001b[0;34m\u001b[0m\u001b[0m\n\u001b[0m\u001b[1;32m      9\u001b[0m                 \u001b[0mY_Pred\u001b[0m \u001b[0;34m=\u001b[0m \u001b[0mmake_pred\u001b[0m\u001b[0;34m(\u001b[0m\u001b[0mtraining_output\u001b[0m\u001b[0;34m[\u001b[0m\u001b[0;36m0\u001b[0m\u001b[0;34m]\u001b[0m\u001b[0;34m,\u001b[0m \u001b[0mx_val\u001b[0m\u001b[0;34m)\u001b[0m\u001b[0;34m\u001b[0m\u001b[0;34m\u001b[0m\u001b[0m\n\u001b[1;32m     10\u001b[0m                 \u001b[0maccuracy\u001b[0m \u001b[0;34m=\u001b[0m \u001b[0mget_accuracy\u001b[0m\u001b[0;34m(\u001b[0m\u001b[0mY_Pred\u001b[0m\u001b[0;34m,\u001b[0m \u001b[0my_val\u001b[0m\u001b[0;34m)\u001b[0m\u001b[0;34m\u001b[0m\u001b[0;34m\u001b[0m\u001b[0m\n",
            "\u001b[0;32m<ipython-input-17-b4737831a9de>\u001b[0m in \u001b[0;36mtrain\u001b[0;34m(x_train, weights, cases, alpha, iters, lamb, batch_size, func, l2)\u001b[0m\n\u001b[1;32m      5\u001b[0m             \u001b[0mcalc_w\u001b[0m\u001b[0;34m,\u001b[0m\u001b[0mJ_his\u001b[0m \u001b[0;34m=\u001b[0m \u001b[0mfunc\u001b[0m\u001b[0;34m(\u001b[0m\u001b[0mx_train\u001b[0m\u001b[0;34m,\u001b[0m \u001b[0mcases\u001b[0m\u001b[0;34m[\u001b[0m\u001b[0mk\u001b[0m\u001b[0;34m]\u001b[0m\u001b[0;34m,\u001b[0m \u001b[0mweights\u001b[0m\u001b[0;34m[\u001b[0m\u001b[0mk\u001b[0m\u001b[0;34m]\u001b[0m\u001b[0;34m,\u001b[0m \u001b[0malpha\u001b[0m\u001b[0;34m,\u001b[0m \u001b[0miters\u001b[0m\u001b[0;34m,\u001b[0m \u001b[0mbatch_size\u001b[0m\u001b[0;34m,\u001b[0m \u001b[0mlamb\u001b[0m\u001b[0;34m,\u001b[0m \u001b[0ml2\u001b[0m\u001b[0;34m)\u001b[0m\u001b[0;34m\u001b[0m\u001b[0;34m\u001b[0m\u001b[0m\n\u001b[1;32m      6\u001b[0m         \u001b[0;32melse\u001b[0m\u001b[0;34m:\u001b[0m\u001b[0;34m\u001b[0m\u001b[0;34m\u001b[0m\u001b[0m\n\u001b[0;32m----> 7\u001b[0;31m             \u001b[0mcalc_w\u001b[0m\u001b[0;34m,\u001b[0m\u001b[0mJ_his\u001b[0m \u001b[0;34m=\u001b[0m \u001b[0mfunc\u001b[0m\u001b[0;34m(\u001b[0m\u001b[0mx_train\u001b[0m\u001b[0;34m,\u001b[0m \u001b[0mcases\u001b[0m\u001b[0;34m[\u001b[0m\u001b[0mk\u001b[0m\u001b[0;34m]\u001b[0m\u001b[0;34m,\u001b[0m \u001b[0mweights\u001b[0m\u001b[0;34m[\u001b[0m\u001b[0mk\u001b[0m\u001b[0;34m]\u001b[0m\u001b[0;34m,\u001b[0m \u001b[0malpha\u001b[0m\u001b[0;34m,\u001b[0m \u001b[0miters\u001b[0m\u001b[0;34m,\u001b[0m \u001b[0mlamb\u001b[0m\u001b[0;34m,\u001b[0m \u001b[0ml2\u001b[0m\u001b[0;34m)\u001b[0m\u001b[0;34m\u001b[0m\u001b[0;34m\u001b[0m\u001b[0m\n\u001b[0m\u001b[1;32m      8\u001b[0m         \u001b[0mweights\u001b[0m\u001b[0;34m[\u001b[0m\u001b[0mk\u001b[0m\u001b[0;34m]\u001b[0m \u001b[0;34m=\u001b[0m \u001b[0mcalc_w\u001b[0m\u001b[0;34m\u001b[0m\u001b[0;34m\u001b[0m\u001b[0m\n\u001b[1;32m      9\u001b[0m     \u001b[0;32mreturn\u001b[0m \u001b[0;34m(\u001b[0m\u001b[0mweights\u001b[0m\u001b[0;34m,\u001b[0m \u001b[0mJ_his\u001b[0m\u001b[0;34m)\u001b[0m\u001b[0;34m\u001b[0m\u001b[0;34m\u001b[0m\u001b[0m\n",
            "\u001b[0;32m<ipython-input-8-0273cefccfa5>\u001b[0m in \u001b[0;36mbatch_gradient_descent\u001b[0;34m(X, y, w, alpha, iters, lamb, l2)\u001b[0m\n\u001b[1;32m      2\u001b[0m     \u001b[0mcost_history\u001b[0m \u001b[0;34m=\u001b[0m \u001b[0mnp\u001b[0m\u001b[0;34m.\u001b[0m\u001b[0mzeros\u001b[0m\u001b[0;34m(\u001b[0m\u001b[0miters\u001b[0m\u001b[0;34m)\u001b[0m\u001b[0;34m\u001b[0m\u001b[0;34m\u001b[0m\u001b[0m\n\u001b[1;32m      3\u001b[0m     \u001b[0;32mfor\u001b[0m \u001b[0mi\u001b[0m \u001b[0;32min\u001b[0m \u001b[0mrange\u001b[0m\u001b[0;34m(\u001b[0m\u001b[0miters\u001b[0m\u001b[0;34m)\u001b[0m\u001b[0;34m:\u001b[0m\u001b[0;34m\u001b[0m\u001b[0;34m\u001b[0m\u001b[0m\n\u001b[0;32m----> 4\u001b[0;31m         \u001b[0mhypothesis\u001b[0m \u001b[0;34m=\u001b[0m \u001b[0msigmoid\u001b[0m\u001b[0;34m(\u001b[0m\u001b[0mnp\u001b[0m\u001b[0;34m.\u001b[0m\u001b[0mdot\u001b[0m\u001b[0;34m(\u001b[0m\u001b[0mX\u001b[0m\u001b[0;34m,\u001b[0m\u001b[0mw\u001b[0m\u001b[0;34m.\u001b[0m\u001b[0mT\u001b[0m\u001b[0;34m)\u001b[0m\u001b[0;34m)\u001b[0m\u001b[0;34m\u001b[0m\u001b[0;34m\u001b[0m\u001b[0m\n\u001b[0m\u001b[1;32m      5\u001b[0m         \u001b[0;32mif\u001b[0m \u001b[0ml2\u001b[0m\u001b[0;34m:\u001b[0m\u001b[0;34m\u001b[0m\u001b[0;34m\u001b[0m\u001b[0m\n\u001b[1;32m      6\u001b[0m             \u001b[0mw\u001b[0m \u001b[0;34m=\u001b[0m \u001b[0mw\u001b[0m \u001b[0;34m-\u001b[0m \u001b[0;34m(\u001b[0m\u001b[0malpha\u001b[0m\u001b[0;34m/\u001b[0m\u001b[0mlen\u001b[0m\u001b[0;34m(\u001b[0m\u001b[0my\u001b[0m\u001b[0;34m)\u001b[0m\u001b[0;34m)\u001b[0m \u001b[0;34m*\u001b[0m \u001b[0mnp\u001b[0m\u001b[0;34m.\u001b[0m\u001b[0mdot\u001b[0m\u001b[0;34m(\u001b[0m\u001b[0mhypothesis\u001b[0m \u001b[0;34m-\u001b[0m \u001b[0my\u001b[0m\u001b[0;34m,\u001b[0m \u001b[0mX\u001b[0m\u001b[0;34m)\u001b[0m \u001b[0;34m-\u001b[0m \u001b[0;34m(\u001b[0m\u001b[0malpha\u001b[0m\u001b[0;34m*\u001b[0m\u001b[0mlamb\u001b[0m\u001b[0;34m)\u001b[0m\u001b[0;34m*\u001b[0m\u001b[0mw\u001b[0m\u001b[0;34m\u001b[0m\u001b[0;34m\u001b[0m\u001b[0m\n",
            "\u001b[0;32m<__array_function__ internals>\u001b[0m in \u001b[0;36mdot\u001b[0;34m(*args, **kwargs)\u001b[0m\n",
            "\u001b[0;31mKeyboardInterrupt\u001b[0m: "
          ]
        }
      ]
    },
    {
      "cell_type": "markdown",
      "source": [
        "# **One-vs-One Classification**"
      ],
      "metadata": {
        "id": "Gr0nLUNntDGf"
      }
    },
    {
      "cell_type": "code",
      "source": [
        "# First let's read the input data again\n",
        "data = pd.read_excel('/content/drive/MyDrive/data.xlsx',header=None)\n",
        "print(data)"
      ],
      "metadata": {
        "id": "-IODqi80tJFU",
        "colab": {
          "base_uri": "https://localhost:8080/"
        },
        "outputId": "6e1e9506-d849-4b85-b318-a5190f5244d3"
      },
      "execution_count": 24,
      "outputs": [
        {
          "output_type": "stream",
          "name": "stdout",
          "text": [
            "              0           1           2           3           4           5   \\\n",
            "0     242.751526  281.801298  250.032405  132.099709   61.166502  247.837695   \n",
            "1     216.585951  297.057883  300.938478  131.358295  105.976730  273.299350   \n",
            "2     265.735536  339.271134  269.817305  102.304781   83.869539  281.962656   \n",
            "3     207.631953  255.284282  254.563071  229.883639   87.492384  303.314846   \n",
            "4     205.016124  333.265999  536.342842  106.237587  155.700409  272.692251   \n",
            "...          ...         ...         ...         ...         ...         ...   \n",
            "3407  723.913528  343.529660  360.468834  233.711682  177.309124  717.744261   \n",
            "3408  466.593370  215.858228  235.940729  309.475340  126.789443  333.123293   \n",
            "3409  446.227198  219.936910  181.605753  160.483773  106.179660  416.263221   \n",
            "3410  511.406437  215.379710  170.598957   89.543149   73.107090  457.783309   \n",
            "3411  757.967516  268.431243  189.755280  156.957408  126.298293  835.417941   \n",
            "\n",
            "              6           7           8           9   ...        51        52  \\\n",
            "0     306.999281  271.560155  126.038604   74.050379  ...  1.891884  1.612099   \n",
            "1     380.251154  335.864007  109.527577  113.088266  ...  1.779043  1.592470   \n",
            "2     386.806725  347.201912  105.945737  104.016513  ...  1.524681  1.763061   \n",
            "3     310.329644  276.926943  207.445146  108.620999  ...  1.907888  1.638839   \n",
            "4     367.533485  537.061350  110.167703  133.100524  ...  1.818213  1.860656   \n",
            "...          ...         ...         ...         ...  ...       ...       ...   \n",
            "3407  448.791348  379.113979  248.029948  170.735388  ...  1.928222  1.659960   \n",
            "3408  200.966375  173.674275  301.590225  110.481002  ...  1.841637  1.836036   \n",
            "3409  251.314023  196.936825  247.802048  114.649466  ...  1.953375  1.831422   \n",
            "3410  230.770136  178.846709  123.660090   78.208996  ...  1.897879  1.903539   \n",
            "3411  337.510327  247.097266  257.882395  180.132129  ...  1.906428  1.674688   \n",
            "\n",
            "            53        54        55        56        57        58        59  60  \n",
            "0     1.396853  1.437446  1.880098  1.872789  1.603211  1.281972  1.844860   1  \n",
            "1     1.749967  1.430117  1.935712  1.739076  1.572927  1.598582  1.625395   1  \n",
            "2     1.935089  1.642102  1.929802  1.522725  1.849940  1.848160  1.706134   1  \n",
            "3     1.604410  1.683284  1.845578  1.978957  1.682881  1.710404  1.664391   1  \n",
            "4     1.789285  1.606024  1.758654  1.834728  1.740251  1.703264  1.535684   1  \n",
            "...        ...       ...       ...       ...       ...       ...       ...  ..  \n",
            "3407  1.658291  1.640978  1.888330  1.933384  1.661284  1.948758  1.758541   4  \n",
            "3408  1.556465  1.898255  1.960397  1.973080  1.740866  1.568558  1.494537   4  \n",
            "3409  1.673341  1.889050  1.862514  2.004401  1.861006  1.418510  1.772295   4  \n",
            "3410  1.836154  1.841137  1.789531  1.837314  1.957492  1.609298  1.664890   4  \n",
            "3411  1.805059  1.529764  1.835415  2.056879  1.732298  1.790039  1.560633   4  \n",
            "\n",
            "[3412 rows x 61 columns]\n"
          ]
        }
      ]
    },
    {
      "cell_type": "code",
      "source": [
        "datan = data.values"
      ],
      "metadata": {
        "id": "Z363wrHJy16E"
      },
      "execution_count": 25,
      "outputs": []
    },
    {
      "cell_type": "code",
      "source": [
        "# We now need 4C2 since there are 4 classes and one-vs-one needs combinations of two classes at a time\n",
        "\n",
        "arrays = [] # we will store the 6 arrays in this list\n",
        "combinations = []\n",
        "\n",
        "# possible classes\n",
        "a_list = [1, 2, 3, 4] \n",
        "\n",
        "# array of all possible combinations\n",
        "import itertools\n",
        "all_combinations = []\n",
        "for r in [2]:\n",
        "    combinations_object = itertools.combinations(a_list, r)\n",
        "    combinations_list = list(combinations_object)\n",
        "    all_combinations += combinations_list\n",
        "\n",
        "print(all_combinations)"
      ],
      "metadata": {
        "colab": {
          "base_uri": "https://localhost:8080/"
        },
        "id": "9p75xL_9zEsN",
        "outputId": "a4e7d8f4-b697-4a13-e3fb-1fb25d119b11"
      },
      "execution_count": 26,
      "outputs": [
        {
          "output_type": "stream",
          "name": "stdout",
          "text": [
            "[(1, 2), (1, 3), (1, 4), (2, 3), (2, 4), (3, 4)]\n"
          ]
        }
      ]
    },
    {
      "cell_type": "code",
      "source": [
        "# print(.shape)\n",
        "print(datan[(3<datan[:,60]) & (datan[:,60]<5)].shape)\n",
        "print(datan[(-1<datan[:,60]) & (datan[:,60]<2)].shape)\n",
        "ar = np.concatenate([datan[(3<datan[:,60]) & (datan[:,60]<5)], datan[(-1<datan[:,60]) & (datan[:,60]<2)]])\n",
        "print(ar.shape)"
      ],
      "metadata": {
        "colab": {
          "base_uri": "https://localhost:8080/"
        },
        "id": "lBD5dbp-0jvv",
        "outputId": "ce87f869-ca9f-4636-a66c-42a3e05a5cfa"
      },
      "execution_count": 27,
      "outputs": [
        {
          "output_type": "stream",
          "name": "stdout",
          "text": [
            "(851, 61)\n",
            "(851, 61)\n",
            "(1702, 61)\n"
          ]
        }
      ]
    },
    {
      "cell_type": "code",
      "source": [
        "array12 = np.concatenate([datan[(0<datan[:,60]) & (datan[:,60]<2)], datan[(1<datan[:,60]) & (datan[:,60]<3)]]) # classes 1 and 2\n",
        "print(array12.shape)\n",
        "arrays.append(array12)\n",
        "\n",
        "array13 = np.concatenate([datan[(0<datan[:,60]) & (datan[:,60]<2)], datan[(2<datan[:,60]) & (datan[:,60]<4)]]) # classes 1 and 3\n",
        "print(array13.shape)\n",
        "arrays.append(array13)\n",
        "\n",
        "array14 = np.concatenate([datan[(0<datan[:,60]) & (datan[:,60]<2)], datan[(3<datan[:,60]) & (datan[:,60]<5)]]) # classes 1 and 4\n",
        "print(array14.shape)\n",
        "arrays.append(array14)\n",
        "\n",
        "array23 = np.concatenate([datan[(1<datan[:,60]) & (datan[:,60]<3)], datan[(2<datan[:,60]) & (datan[:,60]<4)]]) # classes 2 and 3\n",
        "print(array23.shape)\n",
        "arrays.append(array23)\n",
        "\n",
        "array24 = np.concatenate([datan[(1<datan[:,60]) & (datan[:,60]<3)], datan[(3<datan[:,60]) & (datan[:,60]<5)]]) # classes 2 and 4\n",
        "print(array24.shape)\n",
        "arrays.append(array24)\n",
        "\n",
        "array34 = np.concatenate([datan[(2<datan[:,60]) & (datan[:,60]<4)], datan[(3<datan[:,60]) & (datan[:,60]<5)]]) # classes 3 and 4\n",
        "print(array34.shape)\n",
        "arrays.append(array34)\n",
        "\n",
        "# print(arrays)"
      ],
      "metadata": {
        "colab": {
          "base_uri": "https://localhost:8080/"
        },
        "id": "cjUnkpdWhVQP",
        "outputId": "33f6363b-8ea7-4b25-8426-b4cfff136e42"
      },
      "execution_count": 28,
      "outputs": [
        {
          "output_type": "stream",
          "name": "stdout",
          "text": [
            "(1706, 61)\n",
            "(1706, 61)\n",
            "(1702, 61)\n",
            "(1710, 61)\n",
            "(1706, 61)\n",
            "(1706, 61)\n"
          ]
        }
      ]
    },
    {
      "cell_type": "code",
      "source": [
        "# Sort the data\n",
        "\n",
        "sorted_data = []\n",
        "\n",
        "for k in range(len(all_combinations)):\n",
        "  # Read the data\n",
        "  X = arrays[k][:, 0:60]\n",
        "  m = X.shape[0]\n",
        "  print(m)\n",
        "\n",
        "  # Normalise X\n",
        "  xmin = np.min(X, axis = 0)\n",
        "  xmax = np.max(X, axis = 0)\n",
        "  X = (X-xmin)/(xmax - xmin)\n",
        "  print(X.shape)\n",
        "\n",
        "  # Normalise Y\n",
        "  y=arrays[k][:, 60]\n",
        "  print(y.shape)\n",
        "\n",
        "  x_train, x_test1, y_train, y_test1 = train_test_split(X, y, test_size=0.3)\n",
        "  print(x_train.shape)\n",
        "  print(x_test1.shape)\n",
        "\n",
        "  x_test, x_val, y_test, y_val = train_test_split(x_test1, y_test1, test_size=0.33)\n",
        "  print(x_test.shape)\n",
        "  print(x_val.shape)\n",
        "\n",
        "  sorted_data.append([x_train, y_train, x_test, y_test, x_val, y_val])"
      ],
      "metadata": {
        "colab": {
          "base_uri": "https://localhost:8080/"
        },
        "id": "dPtx95uTiplc",
        "outputId": "90d60605-4d14-4bf0-b7a7-3957b91175de"
      },
      "execution_count": 29,
      "outputs": [
        {
          "output_type": "stream",
          "name": "stdout",
          "text": [
            "1706\n",
            "(1706, 60)\n",
            "(1706,)\n",
            "(1194, 60)\n",
            "(512, 60)\n",
            "(343, 60)\n",
            "(169, 60)\n",
            "1706\n",
            "(1706, 60)\n",
            "(1706,)\n",
            "(1194, 60)\n",
            "(512, 60)\n",
            "(343, 60)\n",
            "(169, 60)\n",
            "1702\n",
            "(1702, 60)\n",
            "(1702,)\n",
            "(1191, 60)\n",
            "(511, 60)\n",
            "(342, 60)\n",
            "(169, 60)\n",
            "1710\n",
            "(1710, 60)\n",
            "(1710,)\n",
            "(1197, 60)\n",
            "(513, 60)\n",
            "(343, 60)\n",
            "(170, 60)\n",
            "1706\n",
            "(1706, 60)\n",
            "(1706,)\n",
            "(1194, 60)\n",
            "(512, 60)\n",
            "(343, 60)\n",
            "(169, 60)\n",
            "1706\n",
            "(1706, 60)\n",
            "(1706,)\n",
            "(1194, 60)\n",
            "(512, 60)\n",
            "(343, 60)\n",
            "(169, 60)\n"
          ]
        }
      ]
    },
    {
      "cell_type": "code",
      "source": [
        "weights = prep(6)\n",
        "\n",
        "alpha = 0.01\n",
        "iters = 100000\n",
        "lamb = 0.01\n",
        "\n",
        "batch_w, J_his = batch_gradient_descent(sorted_data[0][0], sorted_data[0][1], weights[0], alpha, iters, lamb, l2 = True)\n",
        "show_plot(iters, J_his)"
      ],
      "metadata": {
        "colab": {
          "base_uri": "https://localhost:8080/",
          "height": 334
        },
        "id": "PrwXm542kgZ-",
        "outputId": "a3be928f-8ef9-4a33-c811-e61d99cad989"
      },
      "execution_count": 30,
      "outputs": [
        {
          "output_type": "stream",
          "name": "stderr",
          "text": [
            "/usr/local/lib/python3.7/dist-packages/ipykernel_launcher.py:4: RuntimeWarning: divide by zero encountered in log\n",
            "  after removing the cwd from sys.path.\n",
            "/usr/local/lib/python3.7/dist-packages/ipykernel_launcher.py:4: RuntimeWarning: invalid value encountered in multiply\n",
            "  after removing the cwd from sys.path.\n"
          ]
        },
        {
          "output_type": "display_data",
          "data": {
            "image/png": "[encoded data removed]",
            "text/plain": [
              "<Figure size 432x288 with 1 Axes>"
            ]
          },
          "metadata": {
            "needs_background": "light"
          }
        }
      ]
    },
    {
      "cell_type": "code",
      "source": [
        "weights = prep(6)\n",
        "\n",
        "alpha = 0.01\n",
        "iters = 1000\n",
        "lamb = 0.01\n",
        "\n",
        "resultants = []\n",
        "\n",
        "for k in range(len(weights)):\n",
        "  batch_w, J_his = batch_gradient_descent(sorted_data[k][0], sorted_data[k][1], weights[0], alpha, iters, lamb, l2 = True)\n",
        "  show_plot(iters, J_his)\n",
        "  resultants.append(batch_w)"
      ],
      "metadata": {
        "colab": {
          "base_uri": "https://localhost:8080/",
          "height": 1000
        },
        "id": "hTqbi6GlSj0g",
        "outputId": "d7fc37af-8862-410a-8382-15784eb5b58d"
      },
      "execution_count": 31,
      "outputs": [
        {
          "output_type": "stream",
          "name": "stderr",
          "text": [
            "/usr/local/lib/python3.7/dist-packages/ipykernel_launcher.py:4: RuntimeWarning: divide by zero encountered in log\n",
            "  after removing the cwd from sys.path.\n",
            "/usr/local/lib/python3.7/dist-packages/ipykernel_launcher.py:4: RuntimeWarning: invalid value encountered in multiply\n",
            "  after removing the cwd from sys.path.\n"
          ]
        },
        {
          "output_type": "display_data",
          "data": {
            "image/png": "[encoded data removed]",
            "text/plain": [
              "<Figure size 432x288 with 1 Axes>"
            ]
          },
          "metadata": {
            "needs_background": "light"
          }
        },
        {
          "output_type": "stream",
          "name": "stderr",
          "text": [
            "/usr/local/lib/python3.7/dist-packages/ipykernel_launcher.py:4: RuntimeWarning: divide by zero encountered in log\n",
            "  after removing the cwd from sys.path.\n",
            "/usr/local/lib/python3.7/dist-packages/ipykernel_launcher.py:4: RuntimeWarning: invalid value encountered in multiply\n",
            "  after removing the cwd from sys.path.\n"
          ]
        },
        {
          "output_type": "display_data",
          "data": {
            "image/png": "[encoded data removed]",
            "text/plain": [
              "<Figure size 432x288 with 1 Axes>"
            ]
          },
          "metadata": {
            "needs_background": "light"
          }
        },
        {
          "output_type": "stream",
          "name": "stderr",
          "text": [
            "/usr/local/lib/python3.7/dist-packages/ipykernel_launcher.py:4: RuntimeWarning: divide by zero encountered in log\n",
            "  after removing the cwd from sys.path.\n",
            "/usr/local/lib/python3.7/dist-packages/ipykernel_launcher.py:4: RuntimeWarning: invalid value encountered in multiply\n",
            "  after removing the cwd from sys.path.\n"
          ]
        },
        {
          "output_type": "display_data",
          "data": {
            "image/png": "[encoded data removed]",
            "text/plain": [
              "<Figure size 432x288 with 1 Axes>"
            ]
          },
          "metadata": {
            "needs_background": "light"
          }
        },
        {
          "output_type": "stream",
          "name": "stderr",
          "text": [
            "/usr/local/lib/python3.7/dist-packages/ipykernel_launcher.py:4: RuntimeWarning: divide by zero encountered in log\n",
            "  after removing the cwd from sys.path.\n"
          ]
        },
        {
          "output_type": "display_data",
          "data": {
            "image/png": "[encoded data removed]",
            "text/plain": [
              "<Figure size 432x288 with 1 Axes>"
            ]
          },
          "metadata": {
            "needs_background": "light"
          }
        },
        {
          "output_type": "stream",
          "name": "stderr",
          "text": [
            "/usr/local/lib/python3.7/dist-packages/ipykernel_launcher.py:4: RuntimeWarning: divide by zero encountered in log\n",
            "  after removing the cwd from sys.path.\n"
          ]
        },
        {
          "output_type": "display_data",
          "data": {
            "image/png": "[encoded data removed]",
            "text/plain": [
              "<Figure size 432x288 with 1 Axes>"
            ]
          },
          "metadata": {
            "needs_background": "light"
          }
        },
        {
          "output_type": "stream",
          "name": "stderr",
          "text": [
            "/usr/local/lib/python3.7/dist-packages/ipykernel_launcher.py:4: RuntimeWarning: divide by zero encountered in log\n",
            "  after removing the cwd from sys.path.\n"
          ]
        },
        {
          "output_type": "display_data",
          "data": {
            "image/png": "[encoded data removed]",
            "text/plain": [
              "<Figure size 432x288 with 1 Axes>"
            ]
          },
          "metadata": {
            "needs_background": "light"
          }
        }
      ]
    },
    {
      "cell_type": "code",
      "source": [
        "# the actual training function\n",
        "def train(x_train, weights, y_train, alpha, iters, lamb, batch_size, func, l2 = True):\n",
        "    if func == MB_gradient_descent:\n",
        "      calc_w,J_his = func(x_train, y_train, weights[k], alpha, iters, batch_size, lamb, l2)\n",
        "    else:\n",
        "      calc_w,J_his = func(x_train, y_train, weights[k], alpha, iters, lamb, l2)\n",
        "      weights[k] = calc_w\n",
        "    return (weights, J_his)"
      ],
      "metadata": {
        "id": "rW2c10cGWB9P"
      },
      "execution_count": 38,
      "outputs": []
    },
    {
      "cell_type": "code",
      "source": [
        "def run_all_functions_and_reg(x_train, y_train, y_val, weights, alpha, iters, lamb, batch_size, show_plots):\n",
        "    for func in [batch_gradient_descent, MB_gradient_descent, stochastic_gradient_descent]: # three algos\n",
        "        for j in range(3): # 3 kinds of regularisation\n",
        "            accuracy = 0\n",
        "            if j == 0: ## no regularisation\n",
        "                lamb = 0\n",
        "                weights = prep(6)\n",
        "                training_output = train(x_train, weights, y_train, alpha, iters, lamb, batch_size, func, l2 = True)\n",
        "                Y_Pred = make_pred(training_output[0], x_val)\n",
        "                accuracy = get_accuracy(Y_Pred, y_val)\n",
        "                if show_plots:\n",
        "                    show_plot(iters, training_output[1])\n",
        "                print(\"Accuracy \" + str(accuracy) + \" with \" + str(func) + \" at alpha \" + str(alpha) + \" at iters \" + str(iters) + \" at lamb \" + str(lamb))\n",
        "            elif j == 1: ## l2 reg\n",
        "                weights = prep(6)\n",
        "                training_output = train(x_train, weights, y_train, alpha, iters, lamb, batch_size, func, l2 = True)\n",
        "                Y_Pred = make_pred(training_output[0], x_val)\n",
        "                if show_plots:\n",
        "                    show_plot(iters, training_output[1])\n",
        "                print(\"Accuracy \" + str(accuracy) + \" with \" + str(func) + \" and L2 at alpha \" + str(alpha) + \" at iters \" + str(iters) + \" at lamb \" + str(lamb))\n",
        "            else: ## l1 reg\n",
        "                weights = prep(6)\n",
        "                training_output = train(x_train, weights, y_train, alpha, iters, lamb, batch_size, func, l2 = False)\n",
        "                Y_Pred = make_pred(training_output[0], x_val)\n",
        "                if show_plots:\n",
        "                    show_plot(iters, training_output[1])\n",
        "                print(\"Accuracy \" + str(accuracy) + \" with \" + str(func) + \" and L1 at alpha \" + str(alpha) + \" at iters \" + str(iters) + \" at lamb \" + str(lamb))\n",
        "\n",
        "            return (accuracy, alpha, iters, lamb, batch_size, func)"
      ],
      "metadata": {
        "id": "oDSgvBjBUV2H"
      },
      "execution_count": 39,
      "outputs": []
    },
    {
      "cell_type": "code",
      "source": [
        "alphas=[0.01, 0.02] ##learning rate\n",
        "iterss=[2000, 5000] ###iterations\n",
        "lambs = [0.1, 0.2]\n",
        "batch_sizes = [1000, 1500]\n",
        "\n",
        "current_accuracy = 0\n",
        "current_alpha = 0\n",
        "current_iters = 0\n",
        "current_lamb = 0\n",
        "current_batch_size = 0\n",
        "current_algo = \"\"\n",
        "\n",
        "for k in range(len(weights)):\n",
        "  for alpha in alphas:\n",
        "      for iters in iterss:\n",
        "          for lamb in lambs:\n",
        "              for batch_size in batch_sizes:\n",
        "                  # x_train, y_train, y_val, weights, alpha, iters, lamb, batch_size, show_plots\n",
        "                  x_train = sorted_data[k][0]\n",
        "                  y_train = sorted_data[k][1]\n",
        "                  y_val = sorted_data[k][5]\n",
        "                  output = run_all_functions_and_reg(x_train, y_train, y_val, weights[k], alpha, iters, lamb, batch_size, False)\n",
        "                  if output[0] >= current_accuracy:\n",
        "                    current_accuracy = output[0]\n",
        "                    current_alpha = output[1]\n",
        "                    current_iters = output[2]\n",
        "                    current_lamb = output[3]\n",
        "                    current_batch_size = output[4]\n",
        "                    current_algo = str(output[5])"
      ],
      "metadata": {
        "colab": {
          "base_uri": "https://localhost:8080/",
          "height": 1000
        },
        "id": "FN8Y51nrU1wH",
        "outputId": "b4933517-60f4-490b-d120-59dba82c72ff"
      },
      "execution_count": 42,
      "outputs": [
        {
          "output_type": "stream",
          "name": "stderr",
          "text": [
            "/usr/local/lib/python3.7/dist-packages/ipykernel_launcher.py:4: RuntimeWarning: divide by zero encountered in log\n",
            "  after removing the cwd from sys.path.\n",
            "/usr/local/lib/python3.7/dist-packages/ipykernel_launcher.py:4: RuntimeWarning: invalid value encountered in multiply\n",
            "  after removing the cwd from sys.path.\n"
          ]
        },
        {
          "output_type": "stream",
          "name": "stdout",
          "text": [
            "Accuracy 0.0 with <function batch_gradient_descent at 0x7f827f851710> at alpha 0.01 at iters 2000 at lamb 0\n"
          ]
        },
        {
          "output_type": "stream",
          "name": "stderr",
          "text": [
            "/usr/local/lib/python3.7/dist-packages/ipykernel_launcher.py:4: RuntimeWarning: divide by zero encountered in log\n",
            "  after removing the cwd from sys.path.\n",
            "/usr/local/lib/python3.7/dist-packages/ipykernel_launcher.py:4: RuntimeWarning: invalid value encountered in multiply\n",
            "  after removing the cwd from sys.path.\n"
          ]
        },
        {
          "output_type": "stream",
          "name": "stdout",
          "text": [
            "Accuracy 0.0 with <function batch_gradient_descent at 0x7f827f851710> at alpha 0.01 at iters 2000 at lamb 0\n"
          ]
        },
        {
          "output_type": "stream",
          "name": "stderr",
          "text": [
            "/usr/local/lib/python3.7/dist-packages/ipykernel_launcher.py:4: RuntimeWarning: divide by zero encountered in log\n",
            "  after removing the cwd from sys.path.\n",
            "/usr/local/lib/python3.7/dist-packages/ipykernel_launcher.py:4: RuntimeWarning: invalid value encountered in multiply\n",
            "  after removing the cwd from sys.path.\n"
          ]
        },
        {
          "output_type": "stream",
          "name": "stdout",
          "text": [
            "Accuracy 0.0 with <function batch_gradient_descent at 0x7f827f851710> at alpha 0.01 at iters 2000 at lamb 0\n"
          ]
        },
        {
          "output_type": "stream",
          "name": "stderr",
          "text": [
            "/usr/local/lib/python3.7/dist-packages/ipykernel_launcher.py:4: RuntimeWarning: divide by zero encountered in log\n",
            "  after removing the cwd from sys.path.\n",
            "/usr/local/lib/python3.7/dist-packages/ipykernel_launcher.py:4: RuntimeWarning: invalid value encountered in multiply\n",
            "  after removing the cwd from sys.path.\n"
          ]
        },
        {
          "output_type": "stream",
          "name": "stdout",
          "text": [
            "Accuracy 0.0 with <function batch_gradient_descent at 0x7f827f851710> at alpha 0.01 at iters 2000 at lamb 0\n"
          ]
        },
        {
          "output_type": "stream",
          "name": "stderr",
          "text": [
            "/usr/local/lib/python3.7/dist-packages/ipykernel_launcher.py:4: RuntimeWarning: divide by zero encountered in log\n",
            "  after removing the cwd from sys.path.\n",
            "/usr/local/lib/python3.7/dist-packages/ipykernel_launcher.py:4: RuntimeWarning: invalid value encountered in multiply\n",
            "  after removing the cwd from sys.path.\n"
          ]
        },
        {
          "output_type": "stream",
          "name": "stdout",
          "text": [
            "Accuracy 0.0 with <function batch_gradient_descent at 0x7f827f851710> at alpha 0.01 at iters 5000 at lamb 0\n"
          ]
        },
        {
          "output_type": "stream",
          "name": "stderr",
          "text": [
            "/usr/local/lib/python3.7/dist-packages/ipykernel_launcher.py:4: RuntimeWarning: divide by zero encountered in log\n",
            "  after removing the cwd from sys.path.\n",
            "/usr/local/lib/python3.7/dist-packages/ipykernel_launcher.py:4: RuntimeWarning: invalid value encountered in multiply\n",
            "  after removing the cwd from sys.path.\n"
          ]
        },
        {
          "output_type": "stream",
          "name": "stdout",
          "text": [
            "Accuracy 0.0 with <function batch_gradient_descent at 0x7f827f851710> at alpha 0.01 at iters 5000 at lamb 0\n"
          ]
        },
        {
          "output_type": "stream",
          "name": "stderr",
          "text": [
            "/usr/local/lib/python3.7/dist-packages/ipykernel_launcher.py:4: RuntimeWarning: divide by zero encountered in log\n",
            "  after removing the cwd from sys.path.\n",
            "/usr/local/lib/python3.7/dist-packages/ipykernel_launcher.py:4: RuntimeWarning: invalid value encountered in multiply\n",
            "  after removing the cwd from sys.path.\n"
          ]
        },
        {
          "output_type": "stream",
          "name": "stdout",
          "text": [
            "Accuracy 0.0 with <function batch_gradient_descent at 0x7f827f851710> at alpha 0.01 at iters 5000 at lamb 0\n"
          ]
        },
        {
          "output_type": "stream",
          "name": "stderr",
          "text": [
            "/usr/local/lib/python3.7/dist-packages/ipykernel_launcher.py:4: RuntimeWarning: divide by zero encountered in log\n",
            "  after removing the cwd from sys.path.\n",
            "/usr/local/lib/python3.7/dist-packages/ipykernel_launcher.py:4: RuntimeWarning: invalid value encountered in multiply\n",
            "  after removing the cwd from sys.path.\n"
          ]
        },
        {
          "output_type": "stream",
          "name": "stdout",
          "text": [
            "Accuracy 0.0 with <function batch_gradient_descent at 0x7f827f851710> at alpha 0.01 at iters 5000 at lamb 0\n"
          ]
        },
        {
          "output_type": "stream",
          "name": "stderr",
          "text": [
            "/usr/local/lib/python3.7/dist-packages/ipykernel_launcher.py:4: RuntimeWarning: divide by zero encountered in log\n",
            "  after removing the cwd from sys.path.\n",
            "/usr/local/lib/python3.7/dist-packages/ipykernel_launcher.py:4: RuntimeWarning: invalid value encountered in multiply\n",
            "  after removing the cwd from sys.path.\n"
          ]
        },
        {
          "output_type": "stream",
          "name": "stdout",
          "text": [
            "Accuracy 0.0 with <function batch_gradient_descent at 0x7f827f851710> at alpha 0.02 at iters 2000 at lamb 0\n"
          ]
        },
        {
          "output_type": "stream",
          "name": "stderr",
          "text": [
            "/usr/local/lib/python3.7/dist-packages/ipykernel_launcher.py:4: RuntimeWarning: divide by zero encountered in log\n",
            "  after removing the cwd from sys.path.\n",
            "/usr/local/lib/python3.7/dist-packages/ipykernel_launcher.py:4: RuntimeWarning: invalid value encountered in multiply\n",
            "  after removing the cwd from sys.path.\n"
          ]
        },
        {
          "output_type": "stream",
          "name": "stdout",
          "text": [
            "Accuracy 0.0 with <function batch_gradient_descent at 0x7f827f851710> at alpha 0.02 at iters 2000 at lamb 0\n"
          ]
        },
        {
          "output_type": "stream",
          "name": "stderr",
          "text": [
            "/usr/local/lib/python3.7/dist-packages/ipykernel_launcher.py:4: RuntimeWarning: divide by zero encountered in log\n",
            "  after removing the cwd from sys.path.\n",
            "/usr/local/lib/python3.7/dist-packages/ipykernel_launcher.py:4: RuntimeWarning: invalid value encountered in multiply\n",
            "  after removing the cwd from sys.path.\n"
          ]
        },
        {
          "output_type": "stream",
          "name": "stdout",
          "text": [
            "Accuracy 0.0 with <function batch_gradient_descent at 0x7f827f851710> at alpha 0.02 at iters 2000 at lamb 0\n"
          ]
        },
        {
          "output_type": "stream",
          "name": "stderr",
          "text": [
            "/usr/local/lib/python3.7/dist-packages/ipykernel_launcher.py:4: RuntimeWarning: divide by zero encountered in log\n",
            "  after removing the cwd from sys.path.\n",
            "/usr/local/lib/python3.7/dist-packages/ipykernel_launcher.py:4: RuntimeWarning: invalid value encountered in multiply\n",
            "  after removing the cwd from sys.path.\n"
          ]
        },
        {
          "output_type": "error",
          "ename": "KeyboardInterrupt",
          "evalue": "ignored",
          "traceback": [
            "\u001b[0;31m---------------------------------------------------------------------------\u001b[0m",
            "\u001b[0;31mKeyboardInterrupt\u001b[0m                         Traceback (most recent call last)",
            "\u001b[0;32m<ipython-input-42-d77c53d9ce22>\u001b[0m in \u001b[0;36m<module>\u001b[0;34m()\u001b[0m\n\u001b[1;32m     20\u001b[0m                   \u001b[0my_train\u001b[0m \u001b[0;34m=\u001b[0m \u001b[0msorted_data\u001b[0m\u001b[0;34m[\u001b[0m\u001b[0mk\u001b[0m\u001b[0;34m]\u001b[0m\u001b[0;34m[\u001b[0m\u001b[0;36m1\u001b[0m\u001b[0;34m]\u001b[0m\u001b[0;34m\u001b[0m\u001b[0;34m\u001b[0m\u001b[0m\n\u001b[1;32m     21\u001b[0m                   \u001b[0my_val\u001b[0m \u001b[0;34m=\u001b[0m \u001b[0msorted_data\u001b[0m\u001b[0;34m[\u001b[0m\u001b[0mk\u001b[0m\u001b[0;34m]\u001b[0m\u001b[0;34m[\u001b[0m\u001b[0;36m5\u001b[0m\u001b[0;34m]\u001b[0m\u001b[0;34m\u001b[0m\u001b[0;34m\u001b[0m\u001b[0m\n\u001b[0;32m---> 22\u001b[0;31m                   \u001b[0moutput\u001b[0m \u001b[0;34m=\u001b[0m \u001b[0mrun_all_functions_and_reg\u001b[0m\u001b[0;34m(\u001b[0m\u001b[0mx_train\u001b[0m\u001b[0;34m,\u001b[0m \u001b[0my_train\u001b[0m\u001b[0;34m,\u001b[0m \u001b[0my_val\u001b[0m\u001b[0;34m,\u001b[0m \u001b[0mweights\u001b[0m\u001b[0;34m[\u001b[0m\u001b[0mk\u001b[0m\u001b[0;34m]\u001b[0m\u001b[0;34m,\u001b[0m \u001b[0malpha\u001b[0m\u001b[0;34m,\u001b[0m \u001b[0miters\u001b[0m\u001b[0;34m,\u001b[0m \u001b[0mlamb\u001b[0m\u001b[0;34m,\u001b[0m \u001b[0mbatch_size\u001b[0m\u001b[0;34m,\u001b[0m \u001b[0;32mFalse\u001b[0m\u001b[0;34m)\u001b[0m\u001b[0;34m\u001b[0m\u001b[0;34m\u001b[0m\u001b[0m\n\u001b[0m\u001b[1;32m     23\u001b[0m                   \u001b[0;32mif\u001b[0m \u001b[0moutput\u001b[0m\u001b[0;34m[\u001b[0m\u001b[0;36m0\u001b[0m\u001b[0;34m]\u001b[0m \u001b[0;34m>=\u001b[0m \u001b[0mcurrent_accuracy\u001b[0m\u001b[0;34m:\u001b[0m\u001b[0;34m\u001b[0m\u001b[0;34m\u001b[0m\u001b[0m\n\u001b[1;32m     24\u001b[0m                     \u001b[0mcurrent_accuracy\u001b[0m \u001b[0;34m=\u001b[0m \u001b[0moutput\u001b[0m\u001b[0;34m[\u001b[0m\u001b[0;36m0\u001b[0m\u001b[0;34m]\u001b[0m\u001b[0;34m\u001b[0m\u001b[0;34m\u001b[0m\u001b[0m\n",
            "\u001b[0;32m<ipython-input-39-81e048e84f20>\u001b[0m in \u001b[0;36mrun_all_functions_and_reg\u001b[0;34m(x_train, y_train, y_val, weights, alpha, iters, lamb, batch_size, show_plots)\u001b[0m\n\u001b[1;32m      6\u001b[0m                 \u001b[0mlamb\u001b[0m \u001b[0;34m=\u001b[0m \u001b[0;36m0\u001b[0m\u001b[0;34m\u001b[0m\u001b[0;34m\u001b[0m\u001b[0m\n\u001b[1;32m      7\u001b[0m                 \u001b[0mweights\u001b[0m \u001b[0;34m=\u001b[0m \u001b[0mprep\u001b[0m\u001b[0;34m(\u001b[0m\u001b[0;36m6\u001b[0m\u001b[0;34m)\u001b[0m\u001b[0;34m\u001b[0m\u001b[0;34m\u001b[0m\u001b[0m\n\u001b[0;32m----> 8\u001b[0;31m                 \u001b[0mtraining_output\u001b[0m \u001b[0;34m=\u001b[0m \u001b[0mtrain\u001b[0m\u001b[0;34m(\u001b[0m\u001b[0mx_train\u001b[0m\u001b[0;34m,\u001b[0m \u001b[0mweights\u001b[0m\u001b[0;34m,\u001b[0m \u001b[0my_train\u001b[0m\u001b[0;34m,\u001b[0m \u001b[0malpha\u001b[0m\u001b[0;34m,\u001b[0m \u001b[0miters\u001b[0m\u001b[0;34m,\u001b[0m \u001b[0mlamb\u001b[0m\u001b[0;34m,\u001b[0m \u001b[0mbatch_size\u001b[0m\u001b[0;34m,\u001b[0m \u001b[0mfunc\u001b[0m\u001b[0;34m,\u001b[0m \u001b[0ml2\u001b[0m \u001b[0;34m=\u001b[0m \u001b[0;32mTrue\u001b[0m\u001b[0;34m)\u001b[0m\u001b[0;34m\u001b[0m\u001b[0;34m\u001b[0m\u001b[0m\n\u001b[0m\u001b[1;32m      9\u001b[0m                 \u001b[0mY_Pred\u001b[0m \u001b[0;34m=\u001b[0m \u001b[0mmake_pred\u001b[0m\u001b[0;34m(\u001b[0m\u001b[0mtraining_output\u001b[0m\u001b[0;34m[\u001b[0m\u001b[0;36m0\u001b[0m\u001b[0;34m]\u001b[0m\u001b[0;34m,\u001b[0m \u001b[0mx_val\u001b[0m\u001b[0;34m)\u001b[0m\u001b[0;34m\u001b[0m\u001b[0;34m\u001b[0m\u001b[0m\n\u001b[1;32m     10\u001b[0m                 \u001b[0maccuracy\u001b[0m \u001b[0;34m=\u001b[0m \u001b[0mget_accuracy\u001b[0m\u001b[0;34m(\u001b[0m\u001b[0mY_Pred\u001b[0m\u001b[0;34m,\u001b[0m \u001b[0my_val\u001b[0m\u001b[0;34m)\u001b[0m\u001b[0;34m\u001b[0m\u001b[0;34m\u001b[0m\u001b[0m\n",
            "\u001b[0;32m<ipython-input-38-ad9df89155bd>\u001b[0m in \u001b[0;36mtrain\u001b[0;34m(x_train, weights, y_train, alpha, iters, lamb, batch_size, func, l2)\u001b[0m\n\u001b[1;32m      4\u001b[0m       \u001b[0mcalc_w\u001b[0m\u001b[0;34m,\u001b[0m\u001b[0mJ_his\u001b[0m \u001b[0;34m=\u001b[0m \u001b[0mfunc\u001b[0m\u001b[0;34m(\u001b[0m\u001b[0mx_train\u001b[0m\u001b[0;34m,\u001b[0m \u001b[0my_train\u001b[0m\u001b[0;34m,\u001b[0m \u001b[0mweights\u001b[0m\u001b[0;34m[\u001b[0m\u001b[0mk\u001b[0m\u001b[0;34m]\u001b[0m\u001b[0;34m,\u001b[0m \u001b[0malpha\u001b[0m\u001b[0;34m,\u001b[0m \u001b[0miters\u001b[0m\u001b[0;34m,\u001b[0m \u001b[0mbatch_size\u001b[0m\u001b[0;34m,\u001b[0m \u001b[0mlamb\u001b[0m\u001b[0;34m,\u001b[0m \u001b[0ml2\u001b[0m\u001b[0;34m)\u001b[0m\u001b[0;34m\u001b[0m\u001b[0;34m\u001b[0m\u001b[0m\n\u001b[1;32m      5\u001b[0m     \u001b[0;32melse\u001b[0m\u001b[0;34m:\u001b[0m\u001b[0;34m\u001b[0m\u001b[0;34m\u001b[0m\u001b[0m\n\u001b[0;32m----> 6\u001b[0;31m       \u001b[0mcalc_w\u001b[0m\u001b[0;34m,\u001b[0m\u001b[0mJ_his\u001b[0m \u001b[0;34m=\u001b[0m \u001b[0mfunc\u001b[0m\u001b[0;34m(\u001b[0m\u001b[0mx_train\u001b[0m\u001b[0;34m,\u001b[0m \u001b[0my_train\u001b[0m\u001b[0;34m,\u001b[0m \u001b[0mweights\u001b[0m\u001b[0;34m[\u001b[0m\u001b[0mk\u001b[0m\u001b[0;34m]\u001b[0m\u001b[0;34m,\u001b[0m \u001b[0malpha\u001b[0m\u001b[0;34m,\u001b[0m \u001b[0miters\u001b[0m\u001b[0;34m,\u001b[0m \u001b[0mlamb\u001b[0m\u001b[0;34m,\u001b[0m \u001b[0ml2\u001b[0m\u001b[0;34m)\u001b[0m\u001b[0;34m\u001b[0m\u001b[0;34m\u001b[0m\u001b[0m\n\u001b[0m\u001b[1;32m      7\u001b[0m       \u001b[0mweights\u001b[0m\u001b[0;34m[\u001b[0m\u001b[0mk\u001b[0m\u001b[0;34m]\u001b[0m \u001b[0;34m=\u001b[0m \u001b[0mcalc_w\u001b[0m\u001b[0;34m\u001b[0m\u001b[0;34m\u001b[0m\u001b[0m\n\u001b[1;32m      8\u001b[0m     \u001b[0;32mreturn\u001b[0m \u001b[0;34m(\u001b[0m\u001b[0mweights\u001b[0m\u001b[0;34m,\u001b[0m \u001b[0mJ_his\u001b[0m\u001b[0;34m)\u001b[0m\u001b[0;34m\u001b[0m\u001b[0;34m\u001b[0m\u001b[0m\n",
            "\u001b[0;32m<ipython-input-8-0273cefccfa5>\u001b[0m in \u001b[0;36mbatch_gradient_descent\u001b[0;34m(X, y, w, alpha, iters, lamb, l2)\u001b[0m\n\u001b[1;32m      7\u001b[0m         \u001b[0;32melse\u001b[0m\u001b[0;34m:\u001b[0m\u001b[0;34m\u001b[0m\u001b[0;34m\u001b[0m\u001b[0m\n\u001b[1;32m      8\u001b[0m             \u001b[0mw\u001b[0m \u001b[0;34m=\u001b[0m \u001b[0mw\u001b[0m \u001b[0;34m-\u001b[0m \u001b[0;34m(\u001b[0m\u001b[0malpha\u001b[0m\u001b[0;34m/\u001b[0m\u001b[0mlen\u001b[0m\u001b[0;34m(\u001b[0m\u001b[0my\u001b[0m\u001b[0;34m)\u001b[0m\u001b[0;34m)\u001b[0m \u001b[0;34m*\u001b[0m \u001b[0mnp\u001b[0m\u001b[0;34m.\u001b[0m\u001b[0mdot\u001b[0m\u001b[0;34m(\u001b[0m\u001b[0mhypothesis\u001b[0m \u001b[0;34m-\u001b[0m \u001b[0my\u001b[0m\u001b[0;34m,\u001b[0m \u001b[0mX\u001b[0m\u001b[0;34m)\u001b[0m \u001b[0;34m-\u001b[0m \u001b[0;34m(\u001b[0m\u001b[0;34m(\u001b[0m\u001b[0malpha\u001b[0m\u001b[0;34m*\u001b[0m\u001b[0mlamb\u001b[0m\u001b[0;34m)\u001b[0m\u001b[0;34m/\u001b[0m\u001b[0;36m2\u001b[0m\u001b[0;34m)\u001b[0m\u001b[0;34m*\u001b[0m\u001b[0mnp\u001b[0m\u001b[0;34m.\u001b[0m\u001b[0msign\u001b[0m\u001b[0;34m(\u001b[0m\u001b[0mw\u001b[0m\u001b[0;34m)\u001b[0m\u001b[0;34m\u001b[0m\u001b[0;34m\u001b[0m\u001b[0m\n\u001b[0;32m----> 9\u001b[0;31m         \u001b[0mcost_history\u001b[0m\u001b[0;34m[\u001b[0m\u001b[0mi\u001b[0m\u001b[0;34m]\u001b[0m \u001b[0;34m=\u001b[0m \u001b[0mcost_function\u001b[0m\u001b[0;34m(\u001b[0m\u001b[0mX\u001b[0m\u001b[0;34m,\u001b[0m\u001b[0my\u001b[0m\u001b[0;34m,\u001b[0m\u001b[0mw\u001b[0m\u001b[0;34m,\u001b[0m \u001b[0mlamb\u001b[0m\u001b[0;34m)\u001b[0m\u001b[0;34m\u001b[0m\u001b[0;34m\u001b[0m\u001b[0m\n\u001b[0m\u001b[1;32m     10\u001b[0m     \u001b[0;32mreturn\u001b[0m \u001b[0mw\u001b[0m\u001b[0;34m,\u001b[0m\u001b[0mcost_history\u001b[0m\u001b[0;34m\u001b[0m\u001b[0;34m\u001b[0m\u001b[0m\n",
            "\u001b[0;32m<ipython-input-7-2034d1e53728>\u001b[0m in \u001b[0;36mcost_function\u001b[0;34m(X, y, w, lamb, l2)\u001b[0m\n\u001b[1;32m      1\u001b[0m \u001b[0;32mdef\u001b[0m \u001b[0mcost_function\u001b[0m\u001b[0;34m(\u001b[0m\u001b[0mX\u001b[0m\u001b[0;34m,\u001b[0m\u001b[0my\u001b[0m\u001b[0;34m,\u001b[0m\u001b[0mw\u001b[0m\u001b[0;34m,\u001b[0m \u001b[0mlamb\u001b[0m\u001b[0;34m,\u001b[0m \u001b[0ml2\u001b[0m \u001b[0;34m=\u001b[0m \u001b[0;32mTrue\u001b[0m\u001b[0;34m)\u001b[0m\u001b[0;34m:\u001b[0m\u001b[0;34m\u001b[0m\u001b[0;34m\u001b[0m\u001b[0m\n\u001b[0;32m----> 2\u001b[0;31m     \u001b[0mhypothesis\u001b[0m \u001b[0;34m=\u001b[0m \u001b[0msigmoid\u001b[0m\u001b[0;34m(\u001b[0m\u001b[0mnp\u001b[0m\u001b[0;34m.\u001b[0m\u001b[0mdot\u001b[0m\u001b[0;34m(\u001b[0m\u001b[0mX\u001b[0m\u001b[0;34m,\u001b[0m\u001b[0mw\u001b[0m\u001b[0;34m.\u001b[0m\u001b[0mT\u001b[0m\u001b[0;34m)\u001b[0m\u001b[0;34m)\u001b[0m\u001b[0;34m\u001b[0m\u001b[0;34m\u001b[0m\u001b[0m\n\u001b[0m\u001b[1;32m      3\u001b[0m     \u001b[0;32mif\u001b[0m \u001b[0ml2\u001b[0m\u001b[0;34m:\u001b[0m\u001b[0;34m\u001b[0m\u001b[0;34m\u001b[0m\u001b[0m\n\u001b[1;32m      4\u001b[0m         \u001b[0mJ\u001b[0m \u001b[0;34m=\u001b[0m\u001b[0;34m-\u001b[0m\u001b[0;34m(\u001b[0m\u001b[0;36m1\u001b[0m\u001b[0;34m/\u001b[0m\u001b[0mm\u001b[0m\u001b[0;34m)\u001b[0m\u001b[0;34m*\u001b[0m\u001b[0;34m(\u001b[0m\u001b[0mnp\u001b[0m\u001b[0;34m.\u001b[0m\u001b[0msum\u001b[0m\u001b[0;34m(\u001b[0m\u001b[0my\u001b[0m\u001b[0;34m*\u001b[0m\u001b[0;34m(\u001b[0m\u001b[0mnp\u001b[0m\u001b[0;34m.\u001b[0m\u001b[0mlog\u001b[0m\u001b[0;34m(\u001b[0m\u001b[0mhypothesis\u001b[0m\u001b[0;34m)\u001b[0m\u001b[0;34m)\u001b[0m \u001b[0;34m+\u001b[0m \u001b[0;34m(\u001b[0m\u001b[0;36m1\u001b[0m\u001b[0;34m-\u001b[0m\u001b[0my\u001b[0m\u001b[0;34m)\u001b[0m\u001b[0;34m*\u001b[0m\u001b[0mnp\u001b[0m\u001b[0;34m.\u001b[0m\u001b[0mlog\u001b[0m\u001b[0;34m(\u001b[0m\u001b[0;36m1\u001b[0m\u001b[0;34m-\u001b[0m\u001b[0mhypothesis\u001b[0m\u001b[0;34m)\u001b[0m\u001b[0;34m)\u001b[0m\u001b[0;34m)\u001b[0m \u001b[0;34m+\u001b[0m \u001b[0;34m(\u001b[0m\u001b[0mlamb\u001b[0m\u001b[0;34m/\u001b[0m\u001b[0;36m2\u001b[0m\u001b[0;34m)\u001b[0m\u001b[0;34m*\u001b[0m\u001b[0mnp\u001b[0m\u001b[0;34m.\u001b[0m\u001b[0msum\u001b[0m\u001b[0;34m(\u001b[0m\u001b[0mnp\u001b[0m\u001b[0;34m.\u001b[0m\u001b[0mabs\u001b[0m\u001b[0;34m(\u001b[0m\u001b[0mw\u001b[0m\u001b[0;34m)\u001b[0m\u001b[0;34m**\u001b[0m\u001b[0;36m2\u001b[0m\u001b[0;34m)\u001b[0m\u001b[0;34m\u001b[0m\u001b[0;34m\u001b[0m\u001b[0m\n\u001b[1;32m      5\u001b[0m     \u001b[0;32melse\u001b[0m\u001b[0;34m:\u001b[0m\u001b[0;34m\u001b[0m\u001b[0;34m\u001b[0m\u001b[0m\n",
            "\u001b[0;32m<__array_function__ internals>\u001b[0m in \u001b[0;36mdot\u001b[0;34m(*args, **kwargs)\u001b[0m\n",
            "\u001b[0;31mKeyboardInterrupt\u001b[0m: "
          ]
        }
      ]
    }
  ]
}