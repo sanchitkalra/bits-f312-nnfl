{
  "nbformat": 4,
  "nbformat_minor": 0,
  "metadata": {
    "colab": {
      "name": "Assignment 1 - Q5",
      "provenance": [],
      "authorship_tag": "ABX9TyO6Ma90I5HnnbrCw7L/hvRl",
      "include_colab_link": true
    },
    "kernelspec": {
      "name": "python3",
      "display_name": "Python 3"
    },
    "language_info": {
      "name": "python"
    }
  },
  "cells": [
    {
      "cell_type": "markdown",
      "metadata": {
        "id": "view-in-github",
        "colab_type": "text"
      },
      "source": [
        "<a href=\"https://colab.research.google.com/github/sanchitkalra/bits-f312-nnfl/blob/main/Assignment_1_Q5.ipynb\" target=\"_parent\"><img src=\"https://colab.research.google.com/assets/colab-badge.svg\" alt=\"Open In Colab\"/></a>"
      ]
    },
    {
      "cell_type": "code",
      "execution_count": 1,
      "metadata": {
        "id": "gxftPJxe1BZA"
      },
      "outputs": [],
      "source": [
        "import pandas as pd\n",
        "import math\n",
        "import numpy as np\n",
        "import matplotlib.pyplot as plt\n",
        "from sklearn.model_selection import train_test_split\n",
        "from sklearn.metrics import confusion_matrix\n",
        "np.random.seed(0)"
      ]
    },
    {
      "cell_type": "code",
      "source": [
        "pip install openpyxl==3.0.9"
      ],
      "metadata": {
        "colab": {
          "base_uri": "https://localhost:8080/"
        },
        "id": "nY2WEDlh1Eyu",
        "outputId": "81ab54e5-57a7-47da-f7be-a0298c065fb2"
      },
      "execution_count": 2,
      "outputs": [
        {
          "output_type": "stream",
          "name": "stdout",
          "text": [
            "Requirement already satisfied: openpyxl==3.0.9 in /usr/local/lib/python3.7/dist-packages (3.0.9)\n",
            "Requirement already satisfied: et-xmlfile in /usr/local/lib/python3.7/dist-packages (from openpyxl==3.0.9) (1.1.0)\n"
          ]
        }
      ]
    },
    {
      "cell_type": "code",
      "source": [
        "from google.colab import drive\n",
        "drive.mount('/content/drive')"
      ],
      "metadata": {
        "colab": {
          "base_uri": "https://localhost:8080/"
        },
        "id": "0WNiwqTz1Gni",
        "outputId": "1a207336-be36-4c25-9e91-e898fdbbc270"
      },
      "execution_count": 3,
      "outputs": [
        {
          "output_type": "stream",
          "name": "stdout",
          "text": [
            "Mounted at /content/drive\n"
          ]
        }
      ]
    },
    {
      "cell_type": "code",
      "source": [
        "data = pd.read_excel('/content/drive/MyDrive/data.xlsx',header=None)\n",
        "print(data)"
      ],
      "metadata": {
        "colab": {
          "base_uri": "https://localhost:8080/"
        },
        "id": "Mh5UV-eg1IQZ",
        "outputId": "3dfdb0e6-581e-4843-b1ac-9d2b080a612e"
      },
      "execution_count": 4,
      "outputs": [
        {
          "output_type": "stream",
          "name": "stdout",
          "text": [
            "              0           1           2           3           4           5   \\\n",
            "0     242.751526  281.801298  250.032405  132.099709   61.166502  247.837695   \n",
            "1     216.585951  297.057883  300.938478  131.358295  105.976730  273.299350   \n",
            "2     265.735536  339.271134  269.817305  102.304781   83.869539  281.962656   \n",
            "3     207.631953  255.284282  254.563071  229.883639   87.492384  303.314846   \n",
            "4     205.016124  333.265999  536.342842  106.237587  155.700409  272.692251   \n",
            "...          ...         ...         ...         ...         ...         ...   \n",
            "3407  723.913528  343.529660  360.468834  233.711682  177.309124  717.744261   \n",
            "3408  466.593370  215.858228  235.940729  309.475340  126.789443  333.123293   \n",
            "3409  446.227198  219.936910  181.605753  160.483773  106.179660  416.263221   \n",
            "3410  511.406437  215.379710  170.598957   89.543149   73.107090  457.783309   \n",
            "3411  757.967516  268.431243  189.755280  156.957408  126.298293  835.417941   \n",
            "\n",
            "              6           7           8           9   ...        51        52  \\\n",
            "0     306.999281  271.560155  126.038604   74.050379  ...  1.891884  1.612099   \n",
            "1     380.251154  335.864007  109.527577  113.088266  ...  1.779043  1.592470   \n",
            "2     386.806725  347.201912  105.945737  104.016513  ...  1.524681  1.763061   \n",
            "3     310.329644  276.926943  207.445146  108.620999  ...  1.907888  1.638839   \n",
            "4     367.533485  537.061350  110.167703  133.100524  ...  1.818213  1.860656   \n",
            "...          ...         ...         ...         ...  ...       ...       ...   \n",
            "3407  448.791348  379.113979  248.029948  170.735388  ...  1.928222  1.659960   \n",
            "3408  200.966375  173.674275  301.590225  110.481002  ...  1.841637  1.836036   \n",
            "3409  251.314023  196.936825  247.802048  114.649466  ...  1.953375  1.831422   \n",
            "3410  230.770136  178.846709  123.660090   78.208996  ...  1.897879  1.903539   \n",
            "3411  337.510327  247.097266  257.882395  180.132129  ...  1.906428  1.674688   \n",
            "\n",
            "            53        54        55        56        57        58        59  60  \n",
            "0     1.396853  1.437446  1.880098  1.872789  1.603211  1.281972  1.844860   1  \n",
            "1     1.749967  1.430117  1.935712  1.739076  1.572927  1.598582  1.625395   1  \n",
            "2     1.935089  1.642102  1.929802  1.522725  1.849940  1.848160  1.706134   1  \n",
            "3     1.604410  1.683284  1.845578  1.978957  1.682881  1.710404  1.664391   1  \n",
            "4     1.789285  1.606024  1.758654  1.834728  1.740251  1.703264  1.535684   1  \n",
            "...        ...       ...       ...       ...       ...       ...       ...  ..  \n",
            "3407  1.658291  1.640978  1.888330  1.933384  1.661284  1.948758  1.758541   4  \n",
            "3408  1.556465  1.898255  1.960397  1.973080  1.740866  1.568558  1.494537   4  \n",
            "3409  1.673341  1.889050  1.862514  2.004401  1.861006  1.418510  1.772295   4  \n",
            "3410  1.836154  1.841137  1.789531  1.837314  1.957492  1.609298  1.664890   4  \n",
            "3411  1.805059  1.529764  1.835415  2.056879  1.732298  1.790039  1.560633   4  \n",
            "\n",
            "[3412 rows x 61 columns]\n"
          ]
        }
      ]
    },
    {
      "cell_type": "code",
      "source": [
        "datan = data.values\n",
        "c1 = datan[0:851]\n",
        "c2 = datan[851:1706]\n",
        "c3 = datan[1706:2561]\n",
        "c4 = datan[2561:3412]\n",
        "\n",
        "print(c1.shape)\n",
        "print(c2.shape)\n",
        "print(c3.shape)\n",
        "print(c4.shape)"
      ],
      "metadata": {
        "colab": {
          "base_uri": "https://localhost:8080/"
        },
        "id": "ga-L89ub1Jio",
        "outputId": "bc0d589e-b01b-4504-c041-f243a8607a67"
      },
      "execution_count": 5,
      "outputs": [
        {
          "output_type": "stream",
          "name": "stdout",
          "text": [
            "(851, 61)\n",
            "(855, 61)\n",
            "(855, 61)\n",
            "(851, 61)\n"
          ]
        }
      ]
    },
    {
      "cell_type": "code",
      "source": [
        ""
      ],
      "metadata": {
        "id": "8Uo0qr6Y1PA9"
      },
      "execution_count": 5,
      "outputs": []
    }
  ]
}