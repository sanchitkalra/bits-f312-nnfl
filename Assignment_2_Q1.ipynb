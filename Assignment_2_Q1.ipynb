{
  "nbformat": 4,
  "nbformat_minor": 0,
  "metadata": {
    "colab": {
      "name": "Assignment 2 - Q1",
      "provenance": [],
      "authorship_tag": "ABX9TyODi6w7yDDzwxnmFmkX77us",
      "include_colab_link": true
    },
    "kernelspec": {
      "name": "python3",
      "display_name": "Python 3"
    },
    "language_info": {
      "name": "python"
    }
  },
  "cells": [
    {
      "cell_type": "markdown",
      "metadata": {
        "id": "view-in-github",
        "colab_type": "text"
      },
      "source": [
        "<a href=\"https://colab.research.google.com/github/sanchitkalra/bits-f312-nnfl/blob/main/Assignment_2_Q1.ipynb\" target=\"_parent\"><img src=\"https://colab.research.google.com/assets/colab-badge.svg\" alt=\"Open In Colab\"/></a>"
      ]
    },
    {
      "cell_type": "code",
      "execution_count": 1,
      "metadata": {
        "id": "msa4GQ1kEsVO"
      },
      "outputs": [],
      "source": [
        "import pandas as pd\n",
        "import math\n",
        "import numpy as np\n",
        "import matplotlib.pyplot as plt\n",
        "from sklearn.model_selection import train_test_split\n",
        "from sklearn.metrics import confusion_matrix\n",
        "np.random.seed(0)"
      ]
    },
    {
      "cell_type": "code",
      "source": [
        "pip install openpyxl==3.0.9"
      ],
      "metadata": {
        "colab": {
          "base_uri": "https://localhost:8080/"
        },
        "id": "AsRXPXvIMExj",
        "outputId": "e4a5bd3d-461c-4c23-ba30-7917a4507bd4"
      },
      "execution_count": 2,
      "outputs": [
        {
          "output_type": "stream",
          "name": "stdout",
          "text": [
            "Requirement already satisfied: openpyxl==3.0.9 in /usr/local/lib/python3.7/dist-packages (3.0.9)\n",
            "Requirement already satisfied: et-xmlfile in /usr/local/lib/python3.7/dist-packages (from openpyxl==3.0.9) (1.1.0)\n"
          ]
        }
      ]
    },
    {
      "cell_type": "code",
      "source": [
        "from google.colab import drive\n",
        "drive.mount('/content/drive')"
      ],
      "metadata": {
        "colab": {
          "base_uri": "https://localhost:8080/"
        },
        "id": "E0WahRsUMFLi",
        "outputId": "7dd86247-543b-4128-c0ef-a8b6fdc5515f"
      },
      "execution_count": 3,
      "outputs": [
        {
          "output_type": "stream",
          "name": "stdout",
          "text": [
            "Mounted at /content/drive\n"
          ]
        }
      ]
    },
    {
      "cell_type": "code",
      "source": [
        "data = pd.read_excel('/content/drive/MyDrive/NNFL/Assignment2/data55.xlsx',header=None)\n",
        "print(data)"
      ],
      "metadata": {
        "colab": {
          "base_uri": "https://localhost:8080/"
        },
        "id": "oj2_nmMZMGUO",
        "outputId": "2544cec3-6451-46f9-9994-531c94007345"
      },
      "execution_count": 4,
      "outputs": [
        {
          "output_type": "stream",
          "name": "stdout",
          "text": [
            "         0       1       2       3       4       5       6       7       8   \\\n",
            "0    0.0200  0.0371  0.0428  0.0207  0.0954  0.0986  0.1539  0.1601  0.3109   \n",
            "1    0.0453  0.0523  0.0843  0.0689  0.1183  0.2583  0.2156  0.3481  0.3337   \n",
            "2    0.0262  0.0582  0.1099  0.1083  0.0974  0.2280  0.2431  0.3771  0.5598   \n",
            "3    0.0100  0.0171  0.0623  0.0205  0.0205  0.0368  0.1098  0.1276  0.0598   \n",
            "4    0.0762  0.0666  0.0481  0.0394  0.0590  0.0649  0.1209  0.2467  0.3564   \n",
            "..      ...     ...     ...     ...     ...     ...     ...     ...     ...   \n",
            "203  0.0187  0.0346  0.0168  0.0177  0.0393  0.1630  0.2028  0.1694  0.2328   \n",
            "204  0.0323  0.0101  0.0298  0.0564  0.0760  0.0958  0.0990  0.1018  0.1030   \n",
            "205  0.0522  0.0437  0.0180  0.0292  0.0351  0.1171  0.1257  0.1178  0.1258   \n",
            "206  0.0303  0.0353  0.0490  0.0608  0.0167  0.1354  0.1465  0.1123  0.1945   \n",
            "207  0.0260  0.0363  0.0136  0.0272  0.0214  0.0338  0.0655  0.1400  0.1843   \n",
            "\n",
            "         9   ...      51      52      53      54      55      56      57  \\\n",
            "0    0.2111  ...  0.0027  0.0065  0.0159  0.0072  0.0167  0.0180  0.0084   \n",
            "1    0.2872  ...  0.0084  0.0089  0.0048  0.0094  0.0191  0.0140  0.0049   \n",
            "2    0.6194  ...  0.0232  0.0166  0.0095  0.0180  0.0244  0.0316  0.0164   \n",
            "3    0.1264  ...  0.0121  0.0036  0.0150  0.0085  0.0073  0.0050  0.0044   \n",
            "4    0.4459  ...  0.0031  0.0054  0.0105  0.0110  0.0015  0.0072  0.0048   \n",
            "..      ...  ...     ...     ...     ...     ...     ...     ...     ...   \n",
            "203  0.2684  ...  0.0116  0.0098  0.0199  0.0033  0.0101  0.0065  0.0115   \n",
            "204  0.2154  ...  0.0061  0.0093  0.0135  0.0063  0.0063  0.0034  0.0032   \n",
            "205  0.2529  ...  0.0160  0.0029  0.0051  0.0062  0.0089  0.0140  0.0138   \n",
            "206  0.2354  ...  0.0086  0.0046  0.0126  0.0036  0.0035  0.0034  0.0079   \n",
            "207  0.2354  ...  0.0146  0.0129  0.0047  0.0039  0.0061  0.0040  0.0036   \n",
            "\n",
            "         58      59  60  \n",
            "0    0.0090  0.0032   0  \n",
            "1    0.0052  0.0044   0  \n",
            "2    0.0095  0.0078   0  \n",
            "3    0.0040  0.0117   0  \n",
            "4    0.0107  0.0094   0  \n",
            "..      ...     ...  ..  \n",
            "203  0.0193  0.0157   1  \n",
            "204  0.0062  0.0067   1  \n",
            "205  0.0077  0.0031   1  \n",
            "206  0.0036  0.0048   1  \n",
            "207  0.0061  0.0115   1  \n",
            "\n",
            "[208 rows x 61 columns]\n"
          ]
        }
      ]
    },
    {
      "cell_type": "code",
      "source": [
        "datan = data.values\n",
        "\n",
        "X = datan[:, :60]\n",
        "print(X.shape)\n",
        "y = datan[:, 60]\n",
        "print(y.shape)\n",
        "\n",
        "# Split into train, test, and validation sets\n",
        "# 70% training, 20% testing, 10% validation\n",
        "X_train, _X, y_train, _y = train_test_split(X, y, test_size=0.30)\n",
        "X_test, X_val, y_test, y_val = train_test_split(_X, _y, test_size=0.33)\n",
        "\n",
        "print(X_train.shape)\n",
        "print(X_test.shape)\n",
        "print(X_val.shape)"
      ],
      "metadata": {
        "colab": {
          "base_uri": "https://localhost:8080/"
        },
        "id": "l3oNsdy48qpM",
        "outputId": "13cf5cec-3280-423d-c443-c7138d9c59bc"
      },
      "execution_count": 9,
      "outputs": [
        {
          "output_type": "stream",
          "name": "stdout",
          "text": [
            "(208, 60)\n",
            "(208,)\n",
            "(145, 60)\n",
            "(42, 60)\n",
            "(21, 60)\n"
          ]
        }
      ]
    },
    {
      "cell_type": "code",
      "source": [
        "# Init weights\n",
        "\n",
        "W = np.random.rand(60)\n",
        "print(W.shape)\n",
        "\n",
        "# Init bias\n",
        "b = np.random.rand(1)\n",
        "print(b.shape)"
      ],
      "metadata": {
        "colab": {
          "base_uri": "https://localhost:8080/"
        },
        "id": "SgiwM4Av-7Qu",
        "outputId": "3eac9ef9-37e8-4d79-fbd0-2e2b5ffe65f9"
      },
      "execution_count": 20,
      "outputs": [
        {
          "output_type": "stream",
          "name": "stdout",
          "text": [
            "(60,)\n",
            "(1,)\n"
          ]
        }
      ]
    },
    {
      "cell_type": "code",
      "source": [
        "# Hypothesis function\n",
        "\n",
        "def hypothesis(w, x, b):\n",
        "  return np.sign(np.dot(w.T, x) + b)"
      ],
      "metadata": {
        "id": "3Lbbsxuj_ePW"
      },
      "execution_count": 14,
      "outputs": []
    },
    {
      "cell_type": "code",
      "source": [
        "def train(iters, W, b, X_train, y_train):\n",
        "  for i in range(X_train.shape[0]):\n",
        "    h = hypothesis(W, X_train[i], b)\n",
        "    if (h != y_train[i]):\n",
        "      W = W + y_train[i]*X_train[i]\n",
        "      b = b + y_train[i]\n",
        "\n",
        "    return W"
      ],
      "metadata": {
        "id": "BB0ZGcXI_uiZ"
      },
      "execution_count": 18,
      "outputs": []
    },
    {
      "cell_type": "code",
      "source": [
        "iters = 2000\n",
        "W_trained = train(iters, W, b, X_train, y_train)\n",
        "\n",
        "print(W)\n",
        "print(W_trained)"
      ],
      "metadata": {
        "colab": {
          "base_uri": "https://localhost:8080/"
        },
        "id": "pSbaeHIqBm7X",
        "outputId": "94d1f414-d08e-4084-d8c8-376a99431397"
      },
      "execution_count": 21,
      "outputs": [
        {
          "output_type": "stream",
          "name": "stdout",
          "text": [
            "[0.30925129 0.40321803 0.63306201 0.89065281 0.43260636 0.92821871\n",
            " 0.59208066 0.43178493 0.59278027 0.35450605 0.65701977 0.65230895\n",
            " 0.82171856 0.40276676 0.03756505 0.98463162 0.44814283 0.93763523\n",
            " 0.67204106 0.26669688 0.56406436 0.95693298 0.11348592 0.27222936\n",
            " 0.08205775 0.76527058 0.02168872 0.13725135 0.26062867 0.87108257\n",
            " 0.17941007 0.43327873 0.32511791 0.58340419 0.9364681  0.94078166\n",
            " 0.05250817 0.59621112 0.89180097 0.78093113 0.2115339  0.76499445\n",
            " 0.18906266 0.89875959 0.00893127 0.09023298 0.6191828  0.3824401\n",
            " 0.09656288 0.98493331 0.89658126 0.27111339 0.47319005 0.47975387\n",
            " 0.50839039 0.96725931 0.09995852 0.03965046 0.48370646 0.45825901]\n",
            "[0.30925129 0.40321803 0.63306201 0.89065281 0.43260636 0.92821871\n",
            " 0.59208066 0.43178493 0.59278027 0.35450605 0.65701977 0.65230895\n",
            " 0.82171856 0.40276676 0.03756505 0.98463162 0.44814283 0.93763523\n",
            " 0.67204106 0.26669688 0.56406436 0.95693298 0.11348592 0.27222936\n",
            " 0.08205775 0.76527058 0.02168872 0.13725135 0.26062867 0.87108257\n",
            " 0.17941007 0.43327873 0.32511791 0.58340419 0.9364681  0.94078166\n",
            " 0.05250817 0.59621112 0.89180097 0.78093113 0.2115339  0.76499445\n",
            " 0.18906266 0.89875959 0.00893127 0.09023298 0.6191828  0.3824401\n",
            " 0.09656288 0.98493331 0.89658126 0.27111339 0.47319005 0.47975387\n",
            " 0.50839039 0.96725931 0.09995852 0.03965046 0.48370646 0.45825901]\n"
          ]
        }
      ]
    }
  ]
}