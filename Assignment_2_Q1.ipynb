{
  "nbformat": 4,
  "nbformat_minor": 0,
  "metadata": {
    "colab": {
      "name": "Assignment 2 - Q1",
      "provenance": [],
      "collapsed_sections": [],
      "authorship_tag": "ABX9TyPDoILt89yhLQc3SJGUy11d",
      "include_colab_link": true
    },
    "kernelspec": {
      "name": "python3",
      "display_name": "Python 3"
    },
    "language_info": {
      "name": "python"
    }
  },
  "cells": [
    {
      "cell_type": "markdown",
      "metadata": {
        "id": "view-in-github",
        "colab_type": "text"
      },
      "source": [
        "<a href=\"https://colab.research.google.com/github/sanchitkalra/bits-f312-nnfl/blob/main/Assignment_2_Q1.ipynb\" target=\"_parent\"><img src=\"https://colab.research.google.com/assets/colab-badge.svg\" alt=\"Open In Colab\"/></a>"
      ]
    },
    {
      "cell_type": "code",
      "execution_count": 64,
      "metadata": {
        "id": "msa4GQ1kEsVO"
      },
      "outputs": [],
      "source": [
        "import pandas as pd\n",
        "import math\n",
        "import numpy as np\n",
        "import matplotlib.pyplot as plt\n",
        "from sklearn.model_selection import train_test_split\n",
        "from sklearn.metrics import confusion_matrix\n",
        "np.random.seed(0)\n",
        "from sklearn.metrics import confusion_matrix"
      ]
    },
    {
      "cell_type": "code",
      "source": [
        "pip install openpyxl==3.0.9"
      ],
      "metadata": {
        "colab": {
          "base_uri": "https://localhost:8080/"
        },
        "id": "AsRXPXvIMExj",
        "outputId": "ed4a13f0-90d1-4b37-b066-aeb957362084"
      },
      "execution_count": 65,
      "outputs": [
        {
          "output_type": "stream",
          "name": "stdout",
          "text": [
            "Requirement already satisfied: openpyxl==3.0.9 in /usr/local/lib/python3.7/dist-packages (3.0.9)\n",
            "Requirement already satisfied: et-xmlfile in /usr/local/lib/python3.7/dist-packages (from openpyxl==3.0.9) (1.1.0)\n"
          ]
        }
      ]
    },
    {
      "cell_type": "code",
      "source": [
        "from google.colab import drive\n",
        "drive.mount('/content/drive')"
      ],
      "metadata": {
        "colab": {
          "base_uri": "https://localhost:8080/"
        },
        "id": "E0WahRsUMFLi",
        "outputId": "128b6cdb-4730-4c92-d31e-90f75d324a40"
      },
      "execution_count": 66,
      "outputs": [
        {
          "output_type": "stream",
          "name": "stdout",
          "text": [
            "Drive already mounted at /content/drive; to attempt to forcibly remount, call drive.mount(\"/content/drive\", force_remount=True).\n"
          ]
        }
      ]
    },
    {
      "cell_type": "code",
      "source": [
        "data = pd.read_excel('/content/drive/MyDrive/NNFL/Assignment2/data55.xlsx',header=None)\n",
        "print(data)"
      ],
      "metadata": {
        "colab": {
          "base_uri": "https://localhost:8080/"
        },
        "id": "oj2_nmMZMGUO",
        "outputId": "2753f504-26b4-4f57-9eb9-7f85beb2bb00"
      },
      "execution_count": 67,
      "outputs": [
        {
          "output_type": "stream",
          "name": "stdout",
          "text": [
            "         0       1       2       3       4       5       6       7       8   \\\n",
            "0    0.0200  0.0371  0.0428  0.0207  0.0954  0.0986  0.1539  0.1601  0.3109   \n",
            "1    0.0453  0.0523  0.0843  0.0689  0.1183  0.2583  0.2156  0.3481  0.3337   \n",
            "2    0.0262  0.0582  0.1099  0.1083  0.0974  0.2280  0.2431  0.3771  0.5598   \n",
            "3    0.0100  0.0171  0.0623  0.0205  0.0205  0.0368  0.1098  0.1276  0.0598   \n",
            "4    0.0762  0.0666  0.0481  0.0394  0.0590  0.0649  0.1209  0.2467  0.3564   \n",
            "..      ...     ...     ...     ...     ...     ...     ...     ...     ...   \n",
            "203  0.0187  0.0346  0.0168  0.0177  0.0393  0.1630  0.2028  0.1694  0.2328   \n",
            "204  0.0323  0.0101  0.0298  0.0564  0.0760  0.0958  0.0990  0.1018  0.1030   \n",
            "205  0.0522  0.0437  0.0180  0.0292  0.0351  0.1171  0.1257  0.1178  0.1258   \n",
            "206  0.0303  0.0353  0.0490  0.0608  0.0167  0.1354  0.1465  0.1123  0.1945   \n",
            "207  0.0260  0.0363  0.0136  0.0272  0.0214  0.0338  0.0655  0.1400  0.1843   \n",
            "\n",
            "         9   ...      51      52      53      54      55      56      57  \\\n",
            "0    0.2111  ...  0.0027  0.0065  0.0159  0.0072  0.0167  0.0180  0.0084   \n",
            "1    0.2872  ...  0.0084  0.0089  0.0048  0.0094  0.0191  0.0140  0.0049   \n",
            "2    0.6194  ...  0.0232  0.0166  0.0095  0.0180  0.0244  0.0316  0.0164   \n",
            "3    0.1264  ...  0.0121  0.0036  0.0150  0.0085  0.0073  0.0050  0.0044   \n",
            "4    0.4459  ...  0.0031  0.0054  0.0105  0.0110  0.0015  0.0072  0.0048   \n",
            "..      ...  ...     ...     ...     ...     ...     ...     ...     ...   \n",
            "203  0.2684  ...  0.0116  0.0098  0.0199  0.0033  0.0101  0.0065  0.0115   \n",
            "204  0.2154  ...  0.0061  0.0093  0.0135  0.0063  0.0063  0.0034  0.0032   \n",
            "205  0.2529  ...  0.0160  0.0029  0.0051  0.0062  0.0089  0.0140  0.0138   \n",
            "206  0.2354  ...  0.0086  0.0046  0.0126  0.0036  0.0035  0.0034  0.0079   \n",
            "207  0.2354  ...  0.0146  0.0129  0.0047  0.0039  0.0061  0.0040  0.0036   \n",
            "\n",
            "         58      59  60  \n",
            "0    0.0090  0.0032   0  \n",
            "1    0.0052  0.0044   0  \n",
            "2    0.0095  0.0078   0  \n",
            "3    0.0040  0.0117   0  \n",
            "4    0.0107  0.0094   0  \n",
            "..      ...     ...  ..  \n",
            "203  0.0193  0.0157   1  \n",
            "204  0.0062  0.0067   1  \n",
            "205  0.0077  0.0031   1  \n",
            "206  0.0036  0.0048   1  \n",
            "207  0.0061  0.0115   1  \n",
            "\n",
            "[208 rows x 61 columns]\n"
          ]
        }
      ]
    },
    {
      "cell_type": "code",
      "source": [
        "datan = data.values\n",
        "\n",
        "np.random.shuffle(datan)\n",
        "\n",
        "X = datan[:, :60]\n",
        "print(X.shape)\n",
        "y = datan[:, 60]\n",
        "print(y.shape)\n",
        "\n",
        "# Split into train, test, and validation sets\n",
        "# 70% training, 20% testing, 10% validation\n",
        "X_train, _X, y_train, _y = train_test_split(X, y, test_size=0.30)\n",
        "X_test, X_val, y_test, y_val = train_test_split(_X, _y, test_size=0.33)\n",
        "\n",
        "print(X_train.shape)\n",
        "print(X_test.shape)\n",
        "print(X_val.shape)"
      ],
      "metadata": {
        "colab": {
          "base_uri": "https://localhost:8080/"
        },
        "id": "l3oNsdy48qpM",
        "outputId": "7f85424a-dda6-4315-ada3-a911dbbcf7fc"
      },
      "execution_count": 68,
      "outputs": [
        {
          "output_type": "stream",
          "name": "stdout",
          "text": [
            "(208, 60)\n",
            "(208,)\n",
            "(145, 60)\n",
            "(42, 60)\n",
            "(21, 60)\n"
          ]
        }
      ]
    },
    {
      "cell_type": "code",
      "source": [
        "# Init weights\n",
        "\n",
        "W = np.random.rand(60)\n",
        "print(W.shape)\n",
        "\n",
        "# Init bias\n",
        "b = np.random.rand(1)\n",
        "print(b.shape)"
      ],
      "metadata": {
        "colab": {
          "base_uri": "https://localhost:8080/"
        },
        "id": "SgiwM4Av-7Qu",
        "outputId": "d2a01710-e408-41b4-b436-615aecab591a"
      },
      "execution_count": 69,
      "outputs": [
        {
          "output_type": "stream",
          "name": "stdout",
          "text": [
            "(60,)\n",
            "(1,)\n"
          ]
        }
      ]
    },
    {
      "cell_type": "code",
      "source": [
        "# Hypothesis function\n",
        "\n",
        "def hypothesis(w, x, b):\n",
        "  return np.sign(np.dot(w.T, x) + b)"
      ],
      "metadata": {
        "id": "3Lbbsxuj_ePW"
      },
      "execution_count": 70,
      "outputs": []
    },
    {
      "cell_type": "code",
      "source": [
        "def train(iters, W, b, X_train, y_train):\n",
        "  # Init weights\n",
        "  W = np.random.rand(60)\n",
        "  print(W.shape)\n",
        "\n",
        "  # Init bias\n",
        "  b = np.random.rand(1)\n",
        "  print(b.shape)\n",
        "  for j in range(iters):\n",
        "    for i in range(X_train.shape[0]):\n",
        "      h = hypothesis(W, X_train[i], b)\n",
        "      if (h != y_train[i]):\n",
        "        W = W + y_train[i]*X_train[i]\n",
        "        b = b + y_train[i]\n",
        "  return W, b"
      ],
      "metadata": {
        "id": "BB0ZGcXI_uiZ"
      },
      "execution_count": 87,
      "outputs": []
    },
    {
      "cell_type": "code",
      "source": [
        "def sigmoid(z):\n",
        "  return 1.0/(1 + np.exp(-z)) ###activation function"
      ],
      "metadata": {
        "id": "1U7Yu85P_3kc"
      },
      "execution_count": 72,
      "outputs": []
    },
    {
      "cell_type": "code",
      "source": [
        "iters = 4000\n",
        "W_trained, b_trained = train(iters, W, b, X_train, y_train)\n",
        "\n",
        "print(W)\n",
        "print(W_trained)\n",
        "print(b_trained)"
      ],
      "metadata": {
        "colab": {
          "base_uri": "https://localhost:8080/"
        },
        "id": "pSbaeHIqBm7X",
        "outputId": "2eb67f95-a45f-4047-a950-08f917a4662f"
      },
      "execution_count": 91,
      "outputs": [
        {
          "output_type": "stream",
          "name": "stdout",
          "text": [
            "(60,)\n",
            "(1,)\n",
            "[0.52459262 0.44201532 0.85263492 0.43343897 0.82687037 0.50934207\n",
            " 0.08637698 0.66003986 0.20659461 0.84727532 0.68135913 0.17836735\n",
            " 0.06985902 0.00968817 0.89204966 0.13346521 0.77919197 0.92516343\n",
            " 0.71517875 0.49081861 0.4694983  0.88270929 0.48841006 0.41456749\n",
            " 0.17411195 0.47528944 0.78364797 0.55642943 0.15986708 0.14382937\n",
            " 0.64946303 0.5392236  0.32568477 0.14701389 0.15987007 0.12941234\n",
            " 0.57892239 0.09226017 0.91054472 0.08297175 0.80037846 0.87713097\n",
            " 0.09345946 0.42630588 0.47322067 0.58019711 0.71624417 0.02706898\n",
            " 0.73139734 0.76696351 0.00976644 0.30828617 0.23286547 0.50342743\n",
            " 0.95372138 0.5578113  0.09746869 0.62167849 0.86302262 0.15763228]\n",
            "[0.35911065 0.70889756 0.58737531 0.80959338 0.20407206 0.79639677\n",
            " 0.2664079  0.29826442 0.97817217 0.04601358 0.18975362 0.5208748\n",
            " 0.37599427 0.24209971 0.68455274 0.66923696 0.963741   0.87860037\n",
            " 0.99743613 0.362888   0.04523449 0.32529681 0.49691475 0.17219571\n",
            " 0.08507608 0.45272886 0.93266553 0.76316501 0.31148607 0.8886155\n",
            " 0.69727429 0.46334402 0.26461953 0.57553389 0.194901   0.74123167\n",
            " 0.93692788 0.65926787 0.72499409 0.16448841 0.74822397 0.49735684\n",
            " 0.08738269 0.38644741 0.72944811 0.57821035 0.30638265 0.988749\n",
            " 0.57403184 0.94494919 0.55977423 0.56466654 0.05117044 0.10407877\n",
            " 0.61443806 0.73163371 0.24403243 0.96397573 0.74123807 0.23801128]\n",
            "[0.64442028]\n"
          ]
        }
      ]
    },
    {
      "cell_type": "code",
      "source": [
        "z = np.dot(X_test, W_trained.T) + b\n",
        "# print(z)\n",
        "print(y_test)\n",
        "print(z.shape)\n",
        "print(z)\n",
        "z_min = np.min(z)\n",
        "z_max = np.max(z)\n",
        "h = (z - z_min)/(z_max - z_min)\n",
        "y_pred=h>0.5\n",
        "y_pred=y_pred.astype(int)\n",
        "print(y_pred)\n",
        "cm=confusion_matrix(y_test, y_pred)\n",
        "print(cm)\n",
        "accuracy=(cm[0][0]+cm[1][1])/(len(y_test))\n",
        "print(accuracy)"
      ],
      "metadata": {
        "colab": {
          "base_uri": "https://localhost:8080/"
        },
        "id": "abr3x2v8_ES6",
        "outputId": "af1c9dd9-4483-4f12-ac0d-efa79d92e290"
      },
      "execution_count": 92,
      "outputs": [
        {
          "output_type": "stream",
          "name": "stdout",
          "text": [
            "[1. 1. 1. 0. 1. 1. 1. 1. 1. 1. 0. 1. 0. 0. 0. 0. 1. 0. 1. 1. 1. 1. 0. 0.\n",
            " 0. 1. 1. 1. 1. 1. 0. 0. 1. 0. 1. 1. 0. 1. 1. 0. 1. 0.]\n",
            "(42,)\n",
            "[ 9.91940421 10.20538418 10.13259889  6.38785624 10.96433999  8.80517688\n",
            " 10.29195454  9.12230768 11.52211561 12.37551563 12.17801765  8.9533457\n",
            " 12.15614789 11.07823684  9.61089924  9.275031    8.61307426 10.90944089\n",
            "  8.84090757  9.16078471 10.27467201  9.56744829  9.9674524   8.98227923\n",
            "  8.78676509  9.22413463  9.41664258 10.01576505 11.76945071 11.32253874\n",
            " 10.02263285 10.11079503 11.00744842  9.13657929 11.56823428  8.59192285\n",
            "  8.53362494 10.78733427  9.29164078  8.46039242 11.17598464  9.74843875]\n",
            "[1 1 1 0 1 0 1 0 1 1 1 0 1 1 1 0 0 1 0 0 1 1 1 0 0 0 1 1 1 1 1 1 1 0 1 0 0\n",
            " 1 0 0 1 1]\n",
            "[[ 7  9]\n",
            " [ 9 17]]\n",
            "0.5714285714285714\n"
          ]
        }
      ]
    }
  ]
}