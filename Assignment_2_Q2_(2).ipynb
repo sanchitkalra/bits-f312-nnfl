{
  "nbformat": 4,
  "nbformat_minor": 0,
  "metadata": {
    "colab": {
      "name": "Assignment 2 - Q2 (2)",
      "provenance": [],
      "authorship_tag": "ABX9TyNonz5dloPJo9a58zN65vFf",
      "include_colab_link": true
    },
    "kernelspec": {
      "name": "python3",
      "display_name": "Python 3"
    },
    "language_info": {
      "name": "python"
    }
  },
  "cells": [
    {
      "cell_type": "markdown",
      "metadata": {
        "id": "view-in-github",
        "colab_type": "text"
      },
      "source": [
        "<a href=\"https://colab.research.google.com/github/sanchitkalra/bits-f312-nnfl/blob/main/Assignment_2_Q2_(2).ipynb\" target=\"_parent\"><img src=\"https://colab.research.google.com/assets/colab-badge.svg\" alt=\"Open In Colab\"/></a>"
      ]
    },
    {
      "cell_type": "code",
      "execution_count": 21,
      "metadata": {
        "colab": {
          "base_uri": "https://localhost:8080/"
        },
        "id": "n_UUKn8xB5jl",
        "outputId": "975d8b59-5d10-4c59-fb98-3d6b5af93efe"
      },
      "outputs": [
        {
          "output_type": "stream",
          "name": "stdout",
          "text": [
            "Drive already mounted at /content/drive; to attempt to forcibly remount, call drive.mount(\"/content/drive\", force_remount=True).\n"
          ]
        }
      ],
      "source": [
        "from google.colab import drive\n",
        "drive.mount('/content/drive')"
      ]
    },
    {
      "cell_type": "code",
      "source": [
        "import pandas as pd\n",
        "import math\n",
        "import numpy as np\n",
        "import matplotlib.pyplot as plt\n",
        "from sklearn.model_selection import train_test_split\n",
        "from sklearn.metrics import confusion_matrix\n",
        "np.random.seed(0)"
      ],
      "metadata": {
        "id": "cl_X19IUB8LE"
      },
      "execution_count": 42,
      "outputs": []
    },
    {
      "cell_type": "code",
      "source": [
        "data = pd.read_excel('/content/drive/MyDrive/NNFL/Assignment2/data55.xlsx',header=None)\n",
        "print(data)"
      ],
      "metadata": {
        "colab": {
          "base_uri": "https://localhost:8080/"
        },
        "id": "fBisogHsB9cV",
        "outputId": "af190bb0-56ce-4e27-a468-4c379f5915b7"
      },
      "execution_count": 23,
      "outputs": [
        {
          "output_type": "stream",
          "name": "stdout",
          "text": [
            "         0       1       2       3       4       5       6       7       8   \\\n",
            "0    0.0200  0.0371  0.0428  0.0207  0.0954  0.0986  0.1539  0.1601  0.3109   \n",
            "1    0.0453  0.0523  0.0843  0.0689  0.1183  0.2583  0.2156  0.3481  0.3337   \n",
            "2    0.0262  0.0582  0.1099  0.1083  0.0974  0.2280  0.2431  0.3771  0.5598   \n",
            "3    0.0100  0.0171  0.0623  0.0205  0.0205  0.0368  0.1098  0.1276  0.0598   \n",
            "4    0.0762  0.0666  0.0481  0.0394  0.0590  0.0649  0.1209  0.2467  0.3564   \n",
            "..      ...     ...     ...     ...     ...     ...     ...     ...     ...   \n",
            "203  0.0187  0.0346  0.0168  0.0177  0.0393  0.1630  0.2028  0.1694  0.2328   \n",
            "204  0.0323  0.0101  0.0298  0.0564  0.0760  0.0958  0.0990  0.1018  0.1030   \n",
            "205  0.0522  0.0437  0.0180  0.0292  0.0351  0.1171  0.1257  0.1178  0.1258   \n",
            "206  0.0303  0.0353  0.0490  0.0608  0.0167  0.1354  0.1465  0.1123  0.1945   \n",
            "207  0.0260  0.0363  0.0136  0.0272  0.0214  0.0338  0.0655  0.1400  0.1843   \n",
            "\n",
            "         9   ...      51      52      53      54      55      56      57  \\\n",
            "0    0.2111  ...  0.0027  0.0065  0.0159  0.0072  0.0167  0.0180  0.0084   \n",
            "1    0.2872  ...  0.0084  0.0089  0.0048  0.0094  0.0191  0.0140  0.0049   \n",
            "2    0.6194  ...  0.0232  0.0166  0.0095  0.0180  0.0244  0.0316  0.0164   \n",
            "3    0.1264  ...  0.0121  0.0036  0.0150  0.0085  0.0073  0.0050  0.0044   \n",
            "4    0.4459  ...  0.0031  0.0054  0.0105  0.0110  0.0015  0.0072  0.0048   \n",
            "..      ...  ...     ...     ...     ...     ...     ...     ...     ...   \n",
            "203  0.2684  ...  0.0116  0.0098  0.0199  0.0033  0.0101  0.0065  0.0115   \n",
            "204  0.2154  ...  0.0061  0.0093  0.0135  0.0063  0.0063  0.0034  0.0032   \n",
            "205  0.2529  ...  0.0160  0.0029  0.0051  0.0062  0.0089  0.0140  0.0138   \n",
            "206  0.2354  ...  0.0086  0.0046  0.0126  0.0036  0.0035  0.0034  0.0079   \n",
            "207  0.2354  ...  0.0146  0.0129  0.0047  0.0039  0.0061  0.0040  0.0036   \n",
            "\n",
            "         58      59  60  \n",
            "0    0.0090  0.0032   0  \n",
            "1    0.0052  0.0044   0  \n",
            "2    0.0095  0.0078   0  \n",
            "3    0.0040  0.0117   0  \n",
            "4    0.0107  0.0094   0  \n",
            "..      ...     ...  ..  \n",
            "203  0.0193  0.0157   1  \n",
            "204  0.0062  0.0067   1  \n",
            "205  0.0077  0.0031   1  \n",
            "206  0.0036  0.0048   1  \n",
            "207  0.0061  0.0115   1  \n",
            "\n",
            "[208 rows x 61 columns]\n"
          ]
        }
      ]
    },
    {
      "cell_type": "code",
      "source": [
        "datan = data.values\n",
        "\n",
        "np.random.shuffle(datan)\n",
        "\n",
        "X = datan[:, :60]\n",
        "print(X.shape)\n",
        "y = datan[:, 60]\n",
        "y = 2*y -1\n",
        "print(y.shape)\n",
        "\n",
        "# Split into train, test, and validation sets\n",
        "# 70% training, 20% testing, 10% validation\n",
        "X_train, _X, y_train, _y = train_test_split(X, y, test_size=0.30)\n",
        "X_test, X_val, y_test, y_val = train_test_split(_X, _y, test_size=0.33)\n",
        "\n",
        "print(X_train.shape)\n",
        "print(X_test.shape)\n",
        "print(X_val.shape)"
      ],
      "metadata": {
        "colab": {
          "base_uri": "https://localhost:8080/"
        },
        "id": "_ZV6g4VNB_es",
        "outputId": "5604b672-efc6-4419-e1c9-67485123a1e2"
      },
      "execution_count": 24,
      "outputs": [
        {
          "output_type": "stream",
          "name": "stdout",
          "text": [
            "(208, 60)\n",
            "(208,)\n",
            "(145, 60)\n",
            "(42, 60)\n",
            "(21, 60)\n"
          ]
        }
      ]
    },
    {
      "cell_type": "code",
      "source": [
        "weights = np.zeros(X_train.shape[0])\n",
        "print(weights)\n",
        "\n",
        "b = np.zeros(X_train.shape[0])\n",
        "print(b)"
      ],
      "metadata": {
        "colab": {
          "base_uri": "https://localhost:8080/"
        },
        "id": "GBWMD_MRCBL8",
        "outputId": "aee77538-deeb-4c58-faae-6e46bc830f1e"
      },
      "execution_count": 25,
      "outputs": [
        {
          "output_type": "stream",
          "name": "stdout",
          "text": [
            "[0. 0. 0. 0. 0. 0. 0. 0. 0. 0. 0. 0. 0. 0. 0. 0. 0. 0. 0. 0. 0. 0. 0. 0.\n",
            " 0. 0. 0. 0. 0. 0. 0. 0. 0. 0. 0. 0. 0. 0. 0. 0. 0. 0. 0. 0. 0. 0. 0. 0.\n",
            " 0. 0. 0. 0. 0. 0. 0. 0. 0. 0. 0. 0. 0. 0. 0. 0. 0. 0. 0. 0. 0. 0. 0. 0.\n",
            " 0. 0. 0. 0. 0. 0. 0. 0. 0. 0. 0. 0. 0. 0. 0. 0. 0. 0. 0. 0. 0. 0. 0. 0.\n",
            " 0. 0. 0. 0. 0. 0. 0. 0. 0. 0. 0. 0. 0. 0. 0. 0. 0. 0. 0. 0. 0. 0. 0. 0.\n",
            " 0. 0. 0. 0. 0. 0. 0. 0. 0. 0. 0. 0. 0. 0. 0. 0. 0. 0. 0. 0. 0. 0. 0. 0.\n",
            " 0.]\n",
            "[0. 0. 0. 0. 0. 0. 0. 0. 0. 0. 0. 0. 0. 0. 0. 0. 0. 0. 0. 0. 0. 0. 0. 0.\n",
            " 0. 0. 0. 0. 0. 0. 0. 0. 0. 0. 0. 0. 0. 0. 0. 0. 0. 0. 0. 0. 0. 0. 0. 0.\n",
            " 0. 0. 0. 0. 0. 0. 0. 0. 0. 0. 0. 0. 0. 0. 0. 0. 0. 0. 0. 0. 0. 0. 0. 0.\n",
            " 0. 0. 0. 0. 0. 0. 0. 0. 0. 0. 0. 0. 0. 0. 0. 0. 0. 0. 0. 0. 0. 0. 0. 0.\n",
            " 0. 0. 0. 0. 0. 0. 0. 0. 0. 0. 0. 0. 0. 0. 0. 0. 0. 0. 0. 0. 0. 0. 0. 0.\n",
            " 0. 0. 0. 0. 0. 0. 0. 0. 0. 0. 0. 0. 0. 0. 0. 0. 0. 0. 0. 0. 0. 0. 0. 0.\n",
            " 0.]\n"
          ]
        }
      ]
    },
    {
      "cell_type": "code",
      "source": [
        "def kernel(X1, X2):\n",
        "  return np.dot(X1, X2)**3"
      ],
      "metadata": {
        "id": "d74iuUf6DCCy"
      },
      "execution_count": 26,
      "outputs": []
    },
    {
      "cell_type": "code",
      "source": [
        "for k in range(10000):\n",
        "  for i in range(X_train.shape[0]):\n",
        "    hypothesis = np.tanh(np.sum(np.dot(weights, kernel(X_train[i], X_train.T))))\n",
        "    if np.sign(hypothesis) != y_train[i]:\n",
        "      weights[i] = weights[i] + y_train[i]\n",
        "      b = b + y_train"
      ],
      "metadata": {
        "id": "T_uqRkYZCz8N"
      },
      "execution_count": 44,
      "outputs": []
    },
    {
      "cell_type": "code",
      "source": [
        "print(weights)\n",
        "print(b)"
      ],
      "metadata": {
        "colab": {
          "base_uri": "https://localhost:8080/"
        },
        "id": "S2K8wEKuClji",
        "outputId": "895f2202-1872-4955-dfcc-2b592e8569f0"
      },
      "execution_count": 45,
      "outputs": [
        {
          "output_type": "stream",
          "name": "stdout",
          "text": [
            "[  1.   0.  -1.  -1.   0.  10.  -5.   3.   0.  13.   1. -18.   5.  13.\n",
            "   0.  -4.   0.  -1.   2.   0.  -2.  -1.  -1.   1.   1.   0. -17.   1.\n",
            "   0.  -1.   1.   0. -25.  -2.  12.   0.   6.   0.   2. -14.  -8.  -4.\n",
            "   3.   0.   7.   2.   0.   2.   0.  -4.   2.   0.   0.   0.   1. -10.\n",
            " -18.   0.  -1.   0.  -1.  12.   3.   0.   0.   0.  -5.   4.  -8.  -9.\n",
            "   0.   0.   0.  -3.   0.  -2.  -5.   0.  -7.  19.  -3. -10.   2.   0.\n",
            "  -4.   6.   0.   0.   2.  -1.  -7.  -1.   0. -15.   4.   0.  13. -20.\n",
            "   3.  11.  -1.  -3.   0.   0.  -4.  20.   0.  19.  -2.   0.   1.   1.\n",
            "   0.  -1.  -8.   0.   0.   0.  -3. -17.   4.   0.   1.  -7.   0.   1.\n",
            "   0.  16.  15.   0.   0.   0. -17.   1. -12.   2.   4.   0.   5.   0.\n",
            "   0.   1.   0.  -3.   0.]\n",
            "[ 576.  576. -576. -576. -576.  576. -576.  576.  576.  576.  576. -576.\n",
            "  576.  576.  576. -576.  576. -576.  576.  576. -576. -576. -576.  576.\n",
            "  576.  576. -576.  576.  576. -576.  576.  576. -576. -576.  576. -576.\n",
            "  576. -576.  576. -576. -576. -576.  576. -576.  576.  576.  576.  576.\n",
            "  576. -576.  576.  576.  576.  576.  576. -576. -576. -576. -576. -576.\n",
            " -576.  576.  576.  576.  576. -576. -576.  576. -576. -576. -576. -576.\n",
            " -576. -576. -576. -576. -576. -576. -576.  576. -576. -576.  576.  576.\n",
            " -576.  576.  576.  576.  576. -576. -576. -576. -576. -576.  576. -576.\n",
            "  576. -576.  576.  576. -576. -576. -576.  576. -576.  576. -576.  576.\n",
            " -576.  576.  576.  576.  576. -576. -576.  576.  576. -576. -576. -576.\n",
            "  576.  576.  576. -576.  576.  576. -576.  576.  576.  576.  576.  576.\n",
            " -576.  576. -576.  576.  576.  576.  576.  576.  576.  576.  576. -576.\n",
            "  576.]\n"
          ]
        }
      ]
    },
    {
      "cell_type": "code",
      "source": [
        "y_test[3]"
      ],
      "metadata": {
        "colab": {
          "base_uri": "https://localhost:8080/"
        },
        "id": "40kdXV4bFNNW",
        "outputId": "49ba6ff1-d906-4784-80f2-c3a72cf2c749"
      },
      "execution_count": 38,
      "outputs": [
        {
          "output_type": "execute_result",
          "data": {
            "text/plain": [
              "-1.0"
            ]
          },
          "metadata": {},
          "execution_count": 38
        }
      ]
    },
    {
      "cell_type": "code",
      "source": [
        "arr = []\n",
        "\n",
        "for k in range(X_test.shape[0]):\n",
        "  hypothesis = np.tanh(np.sum(np.dot(weights, kernel(X_test[k], X_train.T))))\n",
        "  arr.append(hypothesis)\n",
        "\n",
        "yp = np.array(arr)\n",
        "\n",
        "cm=confusion_matrix(y_test, yp)\n",
        "print(cm)\n",
        "accuracy=(cm[0][0]+cm[1][1])/(len(y_test))\n",
        "print(accuracy)"
      ],
      "metadata": {
        "colab": {
          "base_uri": "https://localhost:8080/"
        },
        "id": "Y6iOe_ddGBhQ",
        "outputId": "671ae04f-c274-4d27-eedd-3b9b3132e7aa"
      },
      "execution_count": 46,
      "outputs": [
        {
          "output_type": "stream",
          "name": "stdout",
          "text": [
            "[[14  2]\n",
            " [ 4 22]]\n",
            "0.8571428571428571\n"
          ]
        }
      ]
    }
  ]
}